{
 "cells": [
  {
   "cell_type": "code",
   "execution_count": 3,
   "id": "3f388aaf",
   "metadata": {},
   "outputs": [],
   "source": [
    "import streamlit as st\n",
    "from datetime import datetime\n",
    "import yfinance as yf\n",
    "from plotly import graph_objs as go\n",
    "import pandas as pd\n",
    "import matplotlib.pyplot as plt\n",
    "import sklearn\n",
    "import numpy as np\n",
    "%matplotlib inline"
   ]
  },
  {
   "cell_type": "code",
   "execution_count": 4,
   "id": "1d335c53",
   "metadata": {},
   "outputs": [
    {
     "name": "stdout",
     "output_type": "stream",
     "text": [
      "YF.download() has changed argument auto_adjust default to True\n"
     ]
    },
    {
     "name": "stderr",
     "output_type": "stream",
     "text": [
      "[*********************100%***********************]  1 of 1 completed\n"
     ]
    }
   ],
   "source": [
    "\n",
    "\n",
    "START = \"2015-01-01\"\n",
    "TODAY = datetime.today().strftime(\"%Y-%m-%d\")\n",
    "\n",
    "# download returns a DataFrame with Date as DatetimeIndex\n",
    "df = yf.download(\"AAPL\", start=START, end=TODAY)\n"
   ]
  },
  {
   "cell_type": "code",
   "execution_count": 5,
   "id": "1658dc27",
   "metadata": {},
   "outputs": [
    {
     "data": {
      "application/vnd.microsoft.datawrangler.viewer.v0+json": {
       "columns": [
        {
         "name": "index",
         "rawType": "int64",
         "type": "integer"
        },
        {
         "name": "('Date', '')",
         "rawType": "datetime64[ns]",
         "type": "datetime"
        },
        {
         "name": "('Close', 'AAPL')",
         "rawType": "float64",
         "type": "float"
        },
        {
         "name": "('High', 'AAPL')",
         "rawType": "float64",
         "type": "float"
        },
        {
         "name": "('Low', 'AAPL')",
         "rawType": "float64",
         "type": "float"
        },
        {
         "name": "('Open', 'AAPL')",
         "rawType": "float64",
         "type": "float"
        },
        {
         "name": "('Volume', 'AAPL')",
         "rawType": "int64",
         "type": "integer"
        }
       ],
       "ref": "39bea1b2-453b-4609-935e-eb89dffaebfd",
       "rows": [
        [
         "0",
         "2015-01-02 00:00:00",
         "24.261049270629883",
         "24.729272337596463",
         "23.82167345251905",
         "24.71817633026032",
         "212818400"
        ],
        [
         "1",
         "2015-01-05 00:00:00",
         "23.577571868896484",
         "24.110147948537623",
         "23.391171172179064",
         "24.03026145194082",
         "257142000"
        ],
        [
         "2",
         "2015-01-06 00:00:00",
         "23.579795837402344",
         "23.839426153600677",
         "23.21808699514755",
         "23.641929414645055",
         "263188400"
        ],
        [
         "3",
         "2015-01-07 00:00:00",
         "23.910436630249023",
         "24.01029392504949",
         "23.67743401836389",
         "23.788387320592424",
         "160423600"
        ],
        [
         "4",
         "2015-01-08 00:00:00",
         "24.829126358032227",
         "24.886822541149925",
         "24.121243847243377",
         "24.238855753255983",
         "237458000"
        ]
       ],
       "shape": {
        "columns": 6,
        "rows": 5
       }
      },
      "text/html": [
       "<div>\n",
       "<style scoped>\n",
       "    .dataframe tbody tr th:only-of-type {\n",
       "        vertical-align: middle;\n",
       "    }\n",
       "\n",
       "    .dataframe tbody tr th {\n",
       "        vertical-align: top;\n",
       "    }\n",
       "\n",
       "    .dataframe thead tr th {\n",
       "        text-align: left;\n",
       "    }\n",
       "</style>\n",
       "<table border=\"1\" class=\"dataframe\">\n",
       "  <thead>\n",
       "    <tr>\n",
       "      <th>Price</th>\n",
       "      <th>Date</th>\n",
       "      <th>Close</th>\n",
       "      <th>High</th>\n",
       "      <th>Low</th>\n",
       "      <th>Open</th>\n",
       "      <th>Volume</th>\n",
       "    </tr>\n",
       "    <tr>\n",
       "      <th>Ticker</th>\n",
       "      <th></th>\n",
       "      <th>AAPL</th>\n",
       "      <th>AAPL</th>\n",
       "      <th>AAPL</th>\n",
       "      <th>AAPL</th>\n",
       "      <th>AAPL</th>\n",
       "    </tr>\n",
       "  </thead>\n",
       "  <tbody>\n",
       "    <tr>\n",
       "      <th>0</th>\n",
       "      <td>2015-01-02</td>\n",
       "      <td>24.261049</td>\n",
       "      <td>24.729272</td>\n",
       "      <td>23.821673</td>\n",
       "      <td>24.718176</td>\n",
       "      <td>212818400</td>\n",
       "    </tr>\n",
       "    <tr>\n",
       "      <th>1</th>\n",
       "      <td>2015-01-05</td>\n",
       "      <td>23.577572</td>\n",
       "      <td>24.110148</td>\n",
       "      <td>23.391171</td>\n",
       "      <td>24.030261</td>\n",
       "      <td>257142000</td>\n",
       "    </tr>\n",
       "    <tr>\n",
       "      <th>2</th>\n",
       "      <td>2015-01-06</td>\n",
       "      <td>23.579796</td>\n",
       "      <td>23.839426</td>\n",
       "      <td>23.218087</td>\n",
       "      <td>23.641929</td>\n",
       "      <td>263188400</td>\n",
       "    </tr>\n",
       "    <tr>\n",
       "      <th>3</th>\n",
       "      <td>2015-01-07</td>\n",
       "      <td>23.910437</td>\n",
       "      <td>24.010294</td>\n",
       "      <td>23.677434</td>\n",
       "      <td>23.788387</td>\n",
       "      <td>160423600</td>\n",
       "    </tr>\n",
       "    <tr>\n",
       "      <th>4</th>\n",
       "      <td>2015-01-08</td>\n",
       "      <td>24.829126</td>\n",
       "      <td>24.886823</td>\n",
       "      <td>24.121244</td>\n",
       "      <td>24.238856</td>\n",
       "      <td>237458000</td>\n",
       "    </tr>\n",
       "  </tbody>\n",
       "</table>\n",
       "</div>"
      ],
      "text/plain": [
       "Price        Date      Close       High        Low       Open     Volume\n",
       "Ticker                  AAPL       AAPL       AAPL       AAPL       AAPL\n",
       "0      2015-01-02  24.261049  24.729272  23.821673  24.718176  212818400\n",
       "1      2015-01-05  23.577572  24.110148  23.391171  24.030261  257142000\n",
       "2      2015-01-06  23.579796  23.839426  23.218087  23.641929  263188400\n",
       "3      2015-01-07  23.910437  24.010294  23.677434  23.788387  160423600\n",
       "4      2015-01-08  24.829126  24.886823  24.121244  24.238856  237458000"
      ]
     },
     "execution_count": 5,
     "metadata": {},
     "output_type": "execute_result"
    }
   ],
   "source": [
    "df = df.reset_index()\n",
    "df.head()"
   ]
  },
  {
   "cell_type": "code",
   "execution_count": 6,
   "id": "470b960b",
   "metadata": {},
   "outputs": [
    {
     "name": "stderr",
     "output_type": "stream",
     "text": [
      "C:\\Users\\lydia\\AppData\\Local\\Temp\\ipykernel_7212\\2049818429.py:1: PerformanceWarning: dropping on a non-lexsorted multi-index without a level parameter may impact performance.\n",
      "  df = df.drop([\"Date\"], axis=1)\n"
     ]
    }
   ],
   "source": [
    "df = df.drop([\"Date\"], axis=1)"
   ]
  },
  {
   "cell_type": "code",
   "execution_count": 7,
   "id": "eeb77517",
   "metadata": {},
   "outputs": [
    {
     "data": {
      "text/plain": [
       "[<matplotlib.lines.Line2D at 0x1e01141f1d0>]"
      ]
     },
     "execution_count": 7,
     "metadata": {},
     "output_type": "execute_result"
    }
   ],
   "source": [
    "plt.plot(df.Close, label='Closing Price')"
   ]
  },
  {
   "cell_type": "code",
   "execution_count": 8,
   "id": "505e9982",
   "metadata": {},
   "outputs": [
    {
     "data": {
      "application/vnd.microsoft.datawrangler.viewer.v0+json": {
       "columns": [
        {
         "name": "index",
         "rawType": "int64",
         "type": "integer"
        },
        {
         "name": "AAPL",
         "rawType": "float64",
         "type": "float"
        }
       ],
       "ref": "a448be6f-f8da-4c1b-a3ba-49ab466b537e",
       "rows": [
        [
         "0",
         null
        ],
        [
         "1",
         null
        ],
        [
         "2",
         null
        ],
        [
         "3",
         null
        ],
        [
         "4",
         null
        ],
        [
         "5",
         null
        ],
        [
         "6",
         null
        ],
        [
         "7",
         null
        ],
        [
         "8",
         null
        ],
        [
         "9",
         null
        ],
        [
         "10",
         null
        ],
        [
         "11",
         null
        ],
        [
         "12",
         null
        ],
        [
         "13",
         null
        ],
        [
         "14",
         null
        ],
        [
         "15",
         null
        ],
        [
         "16",
         null
        ],
        [
         "17",
         null
        ],
        [
         "18",
         null
        ],
        [
         "19",
         null
        ],
        [
         "20",
         null
        ],
        [
         "21",
         null
        ],
        [
         "22",
         null
        ],
        [
         "23",
         null
        ],
        [
         "24",
         null
        ],
        [
         "25",
         null
        ],
        [
         "26",
         null
        ],
        [
         "27",
         null
        ],
        [
         "28",
         null
        ],
        [
         "29",
         null
        ],
        [
         "30",
         null
        ],
        [
         "31",
         null
        ],
        [
         "32",
         null
        ],
        [
         "33",
         null
        ],
        [
         "34",
         null
        ],
        [
         "35",
         null
        ],
        [
         "36",
         null
        ],
        [
         "37",
         null
        ],
        [
         "38",
         null
        ],
        [
         "39",
         null
        ],
        [
         "40",
         null
        ],
        [
         "41",
         null
        ],
        [
         "42",
         null
        ],
        [
         "43",
         null
        ],
        [
         "44",
         null
        ],
        [
         "45",
         null
        ],
        [
         "46",
         null
        ],
        [
         "47",
         null
        ],
        [
         "48",
         null
        ],
        [
         "49",
         null
        ]
       ],
       "shape": {
        "columns": 1,
        "rows": 2692
       }
      },
      "text/html": [
       "<div>\n",
       "<style scoped>\n",
       "    .dataframe tbody tr th:only-of-type {\n",
       "        vertical-align: middle;\n",
       "    }\n",
       "\n",
       "    .dataframe tbody tr th {\n",
       "        vertical-align: top;\n",
       "    }\n",
       "\n",
       "    .dataframe thead th {\n",
       "        text-align: right;\n",
       "    }\n",
       "</style>\n",
       "<table border=\"1\" class=\"dataframe\">\n",
       "  <thead>\n",
       "    <tr style=\"text-align: right;\">\n",
       "      <th>Ticker</th>\n",
       "      <th>AAPL</th>\n",
       "    </tr>\n",
       "  </thead>\n",
       "  <tbody>\n",
       "    <tr>\n",
       "      <th>0</th>\n",
       "      <td>NaN</td>\n",
       "    </tr>\n",
       "    <tr>\n",
       "      <th>1</th>\n",
       "      <td>NaN</td>\n",
       "    </tr>\n",
       "    <tr>\n",
       "      <th>2</th>\n",
       "      <td>NaN</td>\n",
       "    </tr>\n",
       "    <tr>\n",
       "      <th>3</th>\n",
       "      <td>NaN</td>\n",
       "    </tr>\n",
       "    <tr>\n",
       "      <th>4</th>\n",
       "      <td>NaN</td>\n",
       "    </tr>\n",
       "    <tr>\n",
       "      <th>...</th>\n",
       "      <td>...</td>\n",
       "    </tr>\n",
       "    <tr>\n",
       "      <th>2687</th>\n",
       "      <td>211.319953</td>\n",
       "    </tr>\n",
       "    <tr>\n",
       "      <th>2688</th>\n",
       "      <td>211.655263</td>\n",
       "    </tr>\n",
       "    <tr>\n",
       "      <th>2689</th>\n",
       "      <td>212.069079</td>\n",
       "    </tr>\n",
       "    <tr>\n",
       "      <th>2690</th>\n",
       "      <td>212.443556</td>\n",
       "    </tr>\n",
       "    <tr>\n",
       "      <th>2691</th>\n",
       "      <td>212.784052</td>\n",
       "    </tr>\n",
       "  </tbody>\n",
       "</table>\n",
       "<p>2692 rows × 1 columns</p>\n",
       "</div>"
      ],
      "text/plain": [
       "Ticker        AAPL\n",
       "0              NaN\n",
       "1              NaN\n",
       "2              NaN\n",
       "3              NaN\n",
       "4              NaN\n",
       "...            ...\n",
       "2687    211.319953\n",
       "2688    211.655263\n",
       "2689    212.069079\n",
       "2690    212.443556\n",
       "2691    212.784052\n",
       "\n",
       "[2692 rows x 1 columns]"
      ]
     },
     "execution_count": 8,
     "metadata": {},
     "output_type": "execute_result"
    }
   ],
   "source": [
    "ma100 = df.Close.rolling(100).mean()\n",
    "\n",
    "ma100"
   ]
  },
  {
   "cell_type": "code",
   "execution_count": 9,
   "id": "f8bb6ac4",
   "metadata": {},
   "outputs": [
    {
     "data": {
      "text/plain": [
       "[<matplotlib.lines.Line2D at 0x1e013580260>]"
      ]
     },
     "execution_count": 9,
     "metadata": {},
     "output_type": "execute_result"
    }
   ],
   "source": [
    "plt.figure(figsize=(12,6))\n",
    "plt.plot(df.Close, label='Closing Price')\n",
    "plt.plot(ma100, 'r', label='MA100')"
   ]
  },
  {
   "cell_type": "code",
   "execution_count": 10,
   "id": "269f492c",
   "metadata": {},
   "outputs": [],
   "source": [
    "ma200 = df.Close.rolling(200).mean()"
   ]
  },
  {
   "cell_type": "code",
   "execution_count": 11,
   "id": "158e5fc1",
   "metadata": {},
   "outputs": [
    {
     "data": {
      "text/plain": [
       "[<matplotlib.lines.Line2D at 0x1e0137402f0>]"
      ]
     },
     "execution_count": 11,
     "metadata": {},
     "output_type": "execute_result"
    }
   ],
   "source": [
    "plt.figure(figsize=(12,6))\n",
    "plt.plot(df.Close, label='Closing Price')\n",
    "plt.plot(ma100, 'r', label='MA100')\n",
    "plt.plot(ma200, 'g', label='MA200')"
   ]
  },
  {
   "cell_type": "code",
   "execution_count": 12,
   "id": "ed94bc1b",
   "metadata": {},
   "outputs": [],
   "source": [
    "df.dropna(inplace=True)"
   ]
  },
  {
   "cell_type": "code",
   "execution_count": 13,
   "id": "50cdf234",
   "metadata": {},
   "outputs": [
    {
     "name": "stdout",
     "output_type": "stream",
     "text": [
      "(1884, 1)\n",
      "(808, 1)\n"
     ]
    }
   ],
   "source": [
    "#splitting data into training and testing\n",
    "data_train = pd.DataFrame(df['Close'][0:int(len(df)*0.70)])\n",
    "data_test = pd.DataFrame(df['Close'][int(len(df)*0.70): int(len(df))])\n",
    "print(data_train.shape)\n",
    "print(data_test.shape)"
   ]
  },
  {
   "cell_type": "code",
   "execution_count": null,
   "id": "38962cc1",
   "metadata": {},
   "outputs": [],
   "source": []
  },
  {
   "cell_type": "code",
   "execution_count": 14,
   "id": "504df481",
   "metadata": {},
   "outputs": [],
   "source": [
    "from sklearn.preprocessing import MinMaxScaler\n",
    "scaler = MinMaxScaler(feature_range=(0,1))\n"
   ]
  },
  {
   "cell_type": "markdown",
   "id": "c83ffe90",
   "metadata": {},
   "source": [
    "scaler = MinMaxScaler(feature_range=(0,1))"
   ]
  },
  {
   "cell_type": "code",
   "execution_count": 15,
   "id": "8bcc29b5",
   "metadata": {},
   "outputs": [
    {
     "data": {
      "text/plain": [
       "array([[0.02304538],\n",
       "       [0.01871462],\n",
       "       [0.01872871],\n",
       "       ...,\n",
       "       [0.73063672],\n",
       "       [0.75175386],\n",
       "       [0.75175386]])"
      ]
     },
     "execution_count": 15,
     "metadata": {},
     "output_type": "execute_result"
    }
   ],
   "source": [
    "\n",
    "data_train_array = scaler.fit_transform(data_train)\n",
    "data_train_array"
   ]
  },
  {
   "cell_type": "code",
   "execution_count": null,
   "id": "669765b6",
   "metadata": {},
   "outputs": [],
   "source": []
  },
  {
   "cell_type": "code",
   "execution_count": 16,
   "id": "bdf73bbb",
   "metadata": {},
   "outputs": [],
   "source": [
    "x_train = []\n",
    "y_train = []\n",
    "for i in range(100, data_train_array.shape[0]):\n",
    "    x_train.append(data_train_array[i-100:i])\n",
    "    y_train.append(data_train_array[i, 0])\n",
    "x_train, y_train = np.array(x_train), np.array(y_train)\n"
   ]
  },
  {
   "cell_type": "code",
   "execution_count": 17,
   "id": "98a09012",
   "metadata": {},
   "outputs": [
    {
     "data": {
      "text/plain": [
       "(1784, 100, 1)"
      ]
     },
     "execution_count": 17,
     "metadata": {},
     "output_type": "execute_result"
    }
   ],
   "source": [
    "x_train.shape"
   ]
  },
  {
   "cell_type": "code",
   "execution_count": 18,
   "id": "c298af3a",
   "metadata": {},
   "outputs": [],
   "source": [
    "# importing libraries for model building"
   ]
  },
  {
   "cell_type": "code",
   "execution_count": 20,
   "id": "ce2a81e0",
   "metadata": {},
   "outputs": [
    {
     "ename": "ModuleNotFoundError",
     "evalue": "No module named 'tensorflow'",
     "output_type": "error",
     "traceback": [
      "\u001b[1;31m---------------------------------------------------------------------------\u001b[0m",
      "\u001b[1;31mModuleNotFoundError\u001b[0m                       Traceback (most recent call last)",
      "Cell \u001b[1;32mIn[20], line 1\u001b[0m\n\u001b[1;32m----> 1\u001b[0m \u001b[38;5;28;01mfrom\u001b[39;00m \u001b[38;5;21;01mkeras\u001b[39;00m\u001b[38;5;21;01m.\u001b[39;00m\u001b[38;5;21;01mlayers\u001b[39;00m \u001b[38;5;28;01mimport\u001b[39;00m Dense, Dropout, LSTM, Input\n\u001b[0;32m      2\u001b[0m \u001b[38;5;28;01mfrom\u001b[39;00m \u001b[38;5;21;01mkeras\u001b[39;00m\u001b[38;5;21;01m.\u001b[39;00m\u001b[38;5;21;01mmodels\u001b[39;00m \u001b[38;5;28;01mimport\u001b[39;00m Sequential\n",
      "File \u001b[1;32mc:\\Users\\lydia\\anaconda3\\Lib\\site-packages\\keras\\__init__.py:7\u001b[0m\n\u001b[0;32m      1\u001b[0m \u001b[38;5;124;03m\"\"\"DO NOT EDIT.\u001b[39;00m\n\u001b[0;32m      2\u001b[0m \n\u001b[0;32m      3\u001b[0m \u001b[38;5;124;03mThis file was autogenerated. Do not edit it by hand,\u001b[39;00m\n\u001b[0;32m      4\u001b[0m \u001b[38;5;124;03msince your modifications would be overwritten.\u001b[39;00m\n\u001b[0;32m      5\u001b[0m \u001b[38;5;124;03m\"\"\"\u001b[39;00m\n\u001b[1;32m----> 7\u001b[0m \u001b[38;5;28;01mfrom\u001b[39;00m \u001b[38;5;21;01mkeras\u001b[39;00m \u001b[38;5;28;01mimport\u001b[39;00m _tf_keras \u001b[38;5;28;01mas\u001b[39;00m _tf_keras\n\u001b[0;32m      8\u001b[0m \u001b[38;5;28;01mfrom\u001b[39;00m \u001b[38;5;21;01mkeras\u001b[39;00m \u001b[38;5;28;01mimport\u001b[39;00m activations \u001b[38;5;28;01mas\u001b[39;00m activations\n\u001b[0;32m      9\u001b[0m \u001b[38;5;28;01mfrom\u001b[39;00m \u001b[38;5;21;01mkeras\u001b[39;00m \u001b[38;5;28;01mimport\u001b[39;00m applications \u001b[38;5;28;01mas\u001b[39;00m applications\n",
      "File \u001b[1;32mc:\\Users\\lydia\\anaconda3\\Lib\\site-packages\\keras\\_tf_keras\\__init__.py:1\u001b[0m\n\u001b[1;32m----> 1\u001b[0m \u001b[38;5;28;01mfrom\u001b[39;00m \u001b[38;5;21;01mkeras\u001b[39;00m\u001b[38;5;21;01m.\u001b[39;00m\u001b[38;5;21;01m_tf_keras\u001b[39;00m \u001b[38;5;28;01mimport\u001b[39;00m keras\n",
      "File \u001b[1;32mc:\\Users\\lydia\\anaconda3\\Lib\\site-packages\\keras\\_tf_keras\\keras\\__init__.py:7\u001b[0m\n\u001b[0;32m      1\u001b[0m \u001b[38;5;124;03m\"\"\"DO NOT EDIT.\u001b[39;00m\n\u001b[0;32m      2\u001b[0m \n\u001b[0;32m      3\u001b[0m \u001b[38;5;124;03mThis file was autogenerated. Do not edit it by hand,\u001b[39;00m\n\u001b[0;32m      4\u001b[0m \u001b[38;5;124;03msince your modifications would be overwritten.\u001b[39;00m\n\u001b[0;32m      5\u001b[0m \u001b[38;5;124;03m\"\"\"\u001b[39;00m\n\u001b[1;32m----> 7\u001b[0m \u001b[38;5;28;01mfrom\u001b[39;00m \u001b[38;5;21;01mkeras\u001b[39;00m \u001b[38;5;28;01mimport\u001b[39;00m activations \u001b[38;5;28;01mas\u001b[39;00m activations\n\u001b[0;32m      8\u001b[0m \u001b[38;5;28;01mfrom\u001b[39;00m \u001b[38;5;21;01mkeras\u001b[39;00m \u001b[38;5;28;01mimport\u001b[39;00m applications \u001b[38;5;28;01mas\u001b[39;00m applications\n\u001b[0;32m      9\u001b[0m \u001b[38;5;28;01mfrom\u001b[39;00m \u001b[38;5;21;01mkeras\u001b[39;00m \u001b[38;5;28;01mimport\u001b[39;00m callbacks \u001b[38;5;28;01mas\u001b[39;00m callbacks\n",
      "File \u001b[1;32mc:\\Users\\lydia\\anaconda3\\Lib\\site-packages\\keras\\activations\\__init__.py:7\u001b[0m\n\u001b[0;32m      1\u001b[0m \u001b[38;5;124;03m\"\"\"DO NOT EDIT.\u001b[39;00m\n\u001b[0;32m      2\u001b[0m \n\u001b[0;32m      3\u001b[0m \u001b[38;5;124;03mThis file was autogenerated. Do not edit it by hand,\u001b[39;00m\n\u001b[0;32m      4\u001b[0m \u001b[38;5;124;03msince your modifications would be overwritten.\u001b[39;00m\n\u001b[0;32m      5\u001b[0m \u001b[38;5;124;03m\"\"\"\u001b[39;00m\n\u001b[1;32m----> 7\u001b[0m \u001b[38;5;28;01mfrom\u001b[39;00m \u001b[38;5;21;01mkeras\u001b[39;00m\u001b[38;5;21;01m.\u001b[39;00m\u001b[38;5;21;01msrc\u001b[39;00m\u001b[38;5;21;01m.\u001b[39;00m\u001b[38;5;21;01mactivations\u001b[39;00m \u001b[38;5;28;01mimport\u001b[39;00m deserialize \u001b[38;5;28;01mas\u001b[39;00m deserialize\n\u001b[0;32m      8\u001b[0m \u001b[38;5;28;01mfrom\u001b[39;00m \u001b[38;5;21;01mkeras\u001b[39;00m\u001b[38;5;21;01m.\u001b[39;00m\u001b[38;5;21;01msrc\u001b[39;00m\u001b[38;5;21;01m.\u001b[39;00m\u001b[38;5;21;01mactivations\u001b[39;00m \u001b[38;5;28;01mimport\u001b[39;00m get \u001b[38;5;28;01mas\u001b[39;00m get\n\u001b[0;32m      9\u001b[0m \u001b[38;5;28;01mfrom\u001b[39;00m \u001b[38;5;21;01mkeras\u001b[39;00m\u001b[38;5;21;01m.\u001b[39;00m\u001b[38;5;21;01msrc\u001b[39;00m\u001b[38;5;21;01m.\u001b[39;00m\u001b[38;5;21;01mactivations\u001b[39;00m \u001b[38;5;28;01mimport\u001b[39;00m serialize \u001b[38;5;28;01mas\u001b[39;00m serialize\n",
      "File \u001b[1;32mc:\\Users\\lydia\\anaconda3\\Lib\\site-packages\\keras\\src\\__init__.py:1\u001b[0m\n\u001b[1;32m----> 1\u001b[0m \u001b[38;5;28;01mfrom\u001b[39;00m \u001b[38;5;21;01mkeras\u001b[39;00m\u001b[38;5;21;01m.\u001b[39;00m\u001b[38;5;21;01msrc\u001b[39;00m \u001b[38;5;28;01mimport\u001b[39;00m activations\n\u001b[0;32m      2\u001b[0m \u001b[38;5;28;01mfrom\u001b[39;00m \u001b[38;5;21;01mkeras\u001b[39;00m\u001b[38;5;21;01m.\u001b[39;00m\u001b[38;5;21;01msrc\u001b[39;00m \u001b[38;5;28;01mimport\u001b[39;00m applications\n\u001b[0;32m      3\u001b[0m \u001b[38;5;28;01mfrom\u001b[39;00m \u001b[38;5;21;01mkeras\u001b[39;00m\u001b[38;5;21;01m.\u001b[39;00m\u001b[38;5;21;01msrc\u001b[39;00m \u001b[38;5;28;01mimport\u001b[39;00m backend\n",
      "File \u001b[1;32mc:\\Users\\lydia\\anaconda3\\Lib\\site-packages\\keras\\src\\activations\\__init__.py:3\u001b[0m\n\u001b[0;32m      1\u001b[0m \u001b[38;5;28;01mimport\u001b[39;00m \u001b[38;5;21;01mtypes\u001b[39;00m\n\u001b[1;32m----> 3\u001b[0m \u001b[38;5;28;01mfrom\u001b[39;00m \u001b[38;5;21;01mkeras\u001b[39;00m\u001b[38;5;21;01m.\u001b[39;00m\u001b[38;5;21;01msrc\u001b[39;00m\u001b[38;5;21;01m.\u001b[39;00m\u001b[38;5;21;01mactivations\u001b[39;00m\u001b[38;5;21;01m.\u001b[39;00m\u001b[38;5;21;01mactivations\u001b[39;00m \u001b[38;5;28;01mimport\u001b[39;00m celu\n\u001b[0;32m      4\u001b[0m \u001b[38;5;28;01mfrom\u001b[39;00m \u001b[38;5;21;01mkeras\u001b[39;00m\u001b[38;5;21;01m.\u001b[39;00m\u001b[38;5;21;01msrc\u001b[39;00m\u001b[38;5;21;01m.\u001b[39;00m\u001b[38;5;21;01mactivations\u001b[39;00m\u001b[38;5;21;01m.\u001b[39;00m\u001b[38;5;21;01mactivations\u001b[39;00m \u001b[38;5;28;01mimport\u001b[39;00m elu\n\u001b[0;32m      5\u001b[0m \u001b[38;5;28;01mfrom\u001b[39;00m \u001b[38;5;21;01mkeras\u001b[39;00m\u001b[38;5;21;01m.\u001b[39;00m\u001b[38;5;21;01msrc\u001b[39;00m\u001b[38;5;21;01m.\u001b[39;00m\u001b[38;5;21;01mactivations\u001b[39;00m\u001b[38;5;21;01m.\u001b[39;00m\u001b[38;5;21;01mactivations\u001b[39;00m \u001b[38;5;28;01mimport\u001b[39;00m exponential\n",
      "File \u001b[1;32mc:\\Users\\lydia\\anaconda3\\Lib\\site-packages\\keras\\src\\activations\\activations.py:1\u001b[0m\n\u001b[1;32m----> 1\u001b[0m \u001b[38;5;28;01mfrom\u001b[39;00m \u001b[38;5;21;01mkeras\u001b[39;00m\u001b[38;5;21;01m.\u001b[39;00m\u001b[38;5;21;01msrc\u001b[39;00m \u001b[38;5;28;01mimport\u001b[39;00m backend\n\u001b[0;32m      2\u001b[0m \u001b[38;5;28;01mfrom\u001b[39;00m \u001b[38;5;21;01mkeras\u001b[39;00m\u001b[38;5;21;01m.\u001b[39;00m\u001b[38;5;21;01msrc\u001b[39;00m \u001b[38;5;28;01mimport\u001b[39;00m ops\n\u001b[0;32m      3\u001b[0m \u001b[38;5;28;01mfrom\u001b[39;00m \u001b[38;5;21;01mkeras\u001b[39;00m\u001b[38;5;21;01m.\u001b[39;00m\u001b[38;5;21;01msrc\u001b[39;00m\u001b[38;5;21;01m.\u001b[39;00m\u001b[38;5;21;01mapi_export\u001b[39;00m \u001b[38;5;28;01mimport\u001b[39;00m keras_export\n",
      "File \u001b[1;32mc:\\Users\\lydia\\anaconda3\\Lib\\site-packages\\keras\\src\\backend\\__init__.py:1\u001b[0m\n\u001b[1;32m----> 1\u001b[0m \u001b[38;5;28;01mfrom\u001b[39;00m \u001b[38;5;21;01mkeras\u001b[39;00m\u001b[38;5;21;01m.\u001b[39;00m\u001b[38;5;21;01msrc\u001b[39;00m\u001b[38;5;21;01m.\u001b[39;00m\u001b[38;5;21;01mbackend\u001b[39;00m\u001b[38;5;21;01m.\u001b[39;00m\u001b[38;5;21;01mconfig\u001b[39;00m \u001b[38;5;28;01mimport\u001b[39;00m backend\n\u001b[0;32m      3\u001b[0m \u001b[38;5;28;01mif\u001b[39;00m backend() \u001b[38;5;241m==\u001b[39m \u001b[38;5;124m\"\u001b[39m\u001b[38;5;124mtorch\u001b[39m\u001b[38;5;124m\"\u001b[39m:\n\u001b[0;32m      4\u001b[0m     \u001b[38;5;66;03m# When using the torch backend,\u001b[39;00m\n\u001b[0;32m      5\u001b[0m     \u001b[38;5;66;03m# torch needs to be imported first, otherwise it will segfault\u001b[39;00m\n\u001b[0;32m      6\u001b[0m     \u001b[38;5;66;03m# upon import.\u001b[39;00m\n\u001b[0;32m      7\u001b[0m     \u001b[38;5;28;01mimport\u001b[39;00m \u001b[38;5;21;01mtorch\u001b[39;00m\n",
      "File \u001b[1;32mc:\\Users\\lydia\\anaconda3\\Lib\\site-packages\\keras\\src\\backend\\config.py:448\u001b[0m\n\u001b[0;32m    445\u001b[0m     \u001b[38;5;28;01melse\u001b[39;00m:\n\u001b[0;32m    446\u001b[0m         _NNX_ENABLED \u001b[38;5;241m=\u001b[39m \u001b[38;5;28;01mFalse\u001b[39;00m\n\u001b[1;32m--> 448\u001b[0m set_nnx_enabled(_NNX_ENABLED)\n",
      "File \u001b[1;32mc:\\Users\\lydia\\anaconda3\\Lib\\site-packages\\keras\\src\\backend\\config.py:249\u001b[0m, in \u001b[0;36mset_nnx_enabled\u001b[1;34m(value)\u001b[0m\n\u001b[0;32m    247\u001b[0m \u001b[38;5;28;01mdef\u001b[39;00m \u001b[38;5;21mset_nnx_enabled\u001b[39m(value):\n\u001b[0;32m    248\u001b[0m     \u001b[38;5;28;01mglobal\u001b[39;00m _NNX_ENABLED\n\u001b[1;32m--> 249\u001b[0m     \u001b[38;5;28;01mfrom\u001b[39;00m \u001b[38;5;21;01mkeras\u001b[39;00m\u001b[38;5;21;01m.\u001b[39;00m\u001b[38;5;21;01msrc\u001b[39;00m\u001b[38;5;21;01m.\u001b[39;00m\u001b[38;5;21;01mbackend\u001b[39;00m\u001b[38;5;21;01m.\u001b[39;00m\u001b[38;5;21;01mcommon\u001b[39;00m \u001b[38;5;28;01mimport\u001b[39;00m global_state\n\u001b[0;32m    251\u001b[0m     _NNX_ENABLED \u001b[38;5;241m=\u001b[39m \u001b[38;5;28mbool\u001b[39m(value)\n\u001b[0;32m    252\u001b[0m     \u001b[38;5;28;01mif\u001b[39;00m _NNX_ENABLED:\n",
      "File \u001b[1;32mc:\\Users\\lydia\\anaconda3\\Lib\\site-packages\\keras\\src\\backend\\common\\__init__.py:2\u001b[0m\n\u001b[0;32m      1\u001b[0m \u001b[38;5;28;01mfrom\u001b[39;00m \u001b[38;5;21;01mkeras\u001b[39;00m\u001b[38;5;21;01m.\u001b[39;00m\u001b[38;5;21;01msrc\u001b[39;00m\u001b[38;5;21;01m.\u001b[39;00m\u001b[38;5;21;01mbackend\u001b[39;00m\u001b[38;5;21;01m.\u001b[39;00m\u001b[38;5;21;01mcommon\u001b[39;00m \u001b[38;5;28;01mimport\u001b[39;00m backend_utils\n\u001b[1;32m----> 2\u001b[0m \u001b[38;5;28;01mfrom\u001b[39;00m \u001b[38;5;21;01mkeras\u001b[39;00m\u001b[38;5;21;01m.\u001b[39;00m\u001b[38;5;21;01msrc\u001b[39;00m\u001b[38;5;21;01m.\u001b[39;00m\u001b[38;5;21;01mbackend\u001b[39;00m\u001b[38;5;21;01m.\u001b[39;00m\u001b[38;5;21;01mcommon\u001b[39;00m\u001b[38;5;21;01m.\u001b[39;00m\u001b[38;5;21;01mdtypes\u001b[39;00m \u001b[38;5;28;01mimport\u001b[39;00m result_type\n\u001b[0;32m      3\u001b[0m \u001b[38;5;28;01mfrom\u001b[39;00m \u001b[38;5;21;01mkeras\u001b[39;00m\u001b[38;5;21;01m.\u001b[39;00m\u001b[38;5;21;01msrc\u001b[39;00m\u001b[38;5;21;01m.\u001b[39;00m\u001b[38;5;21;01mbackend\u001b[39;00m\u001b[38;5;21;01m.\u001b[39;00m\u001b[38;5;21;01mcommon\u001b[39;00m\u001b[38;5;21;01m.\u001b[39;00m\u001b[38;5;21;01mvariables\u001b[39;00m \u001b[38;5;28;01mimport\u001b[39;00m AutocastScope\n\u001b[0;32m      4\u001b[0m \u001b[38;5;28;01mfrom\u001b[39;00m \u001b[38;5;21;01mkeras\u001b[39;00m\u001b[38;5;21;01m.\u001b[39;00m\u001b[38;5;21;01msrc\u001b[39;00m\u001b[38;5;21;01m.\u001b[39;00m\u001b[38;5;21;01mbackend\u001b[39;00m\u001b[38;5;21;01m.\u001b[39;00m\u001b[38;5;21;01mcommon\u001b[39;00m\u001b[38;5;21;01m.\u001b[39;00m\u001b[38;5;21;01mvariables\u001b[39;00m \u001b[38;5;28;01mimport\u001b[39;00m Variable \u001b[38;5;28;01mas\u001b[39;00m KerasVariable\n",
      "File \u001b[1;32mc:\\Users\\lydia\\anaconda3\\Lib\\site-packages\\keras\\src\\backend\\common\\dtypes.py:5\u001b[0m\n\u001b[0;32m      3\u001b[0m \u001b[38;5;28;01mfrom\u001b[39;00m \u001b[38;5;21;01mkeras\u001b[39;00m\u001b[38;5;21;01m.\u001b[39;00m\u001b[38;5;21;01msrc\u001b[39;00m\u001b[38;5;21;01m.\u001b[39;00m\u001b[38;5;21;01mapi_export\u001b[39;00m \u001b[38;5;28;01mimport\u001b[39;00m keras_export\n\u001b[0;32m      4\u001b[0m \u001b[38;5;28;01mfrom\u001b[39;00m \u001b[38;5;21;01mkeras\u001b[39;00m\u001b[38;5;21;01m.\u001b[39;00m\u001b[38;5;21;01msrc\u001b[39;00m\u001b[38;5;21;01m.\u001b[39;00m\u001b[38;5;21;01mbackend\u001b[39;00m \u001b[38;5;28;01mimport\u001b[39;00m config\n\u001b[1;32m----> 5\u001b[0m \u001b[38;5;28;01mfrom\u001b[39;00m \u001b[38;5;21;01mkeras\u001b[39;00m\u001b[38;5;21;01m.\u001b[39;00m\u001b[38;5;21;01msrc\u001b[39;00m\u001b[38;5;21;01m.\u001b[39;00m\u001b[38;5;21;01mbackend\u001b[39;00m\u001b[38;5;21;01m.\u001b[39;00m\u001b[38;5;21;01mcommon\u001b[39;00m\u001b[38;5;21;01m.\u001b[39;00m\u001b[38;5;21;01mvariables\u001b[39;00m \u001b[38;5;28;01mimport\u001b[39;00m standardize_dtype\n\u001b[0;32m      7\u001b[0m BOOL_TYPES \u001b[38;5;241m=\u001b[39m (\u001b[38;5;124m\"\u001b[39m\u001b[38;5;124mbool\u001b[39m\u001b[38;5;124m\"\u001b[39m,)\n\u001b[0;32m      8\u001b[0m INT_TYPES \u001b[38;5;241m=\u001b[39m (\n\u001b[0;32m      9\u001b[0m     \u001b[38;5;124m\"\u001b[39m\u001b[38;5;124muint8\u001b[39m\u001b[38;5;124m\"\u001b[39m,\n\u001b[0;32m     10\u001b[0m     \u001b[38;5;124m\"\u001b[39m\u001b[38;5;124muint16\u001b[39m\u001b[38;5;124m\"\u001b[39m,\n\u001b[1;32m   (...)\u001b[0m\n\u001b[0;32m     16\u001b[0m     \u001b[38;5;124m\"\u001b[39m\u001b[38;5;124mint64\u001b[39m\u001b[38;5;124m\"\u001b[39m,\n\u001b[0;32m     17\u001b[0m )\n",
      "File \u001b[1;32mc:\\Users\\lydia\\anaconda3\\Lib\\site-packages\\keras\\src\\backend\\common\\variables.py:11\u001b[0m\n\u001b[0;32m      9\u001b[0m \u001b[38;5;28;01mfrom\u001b[39;00m \u001b[38;5;21;01mkeras\u001b[39;00m\u001b[38;5;21;01m.\u001b[39;00m\u001b[38;5;21;01msrc\u001b[39;00m\u001b[38;5;21;01m.\u001b[39;00m\u001b[38;5;21;01mbackend\u001b[39;00m\u001b[38;5;21;01m.\u001b[39;00m\u001b[38;5;21;01mcommon\u001b[39;00m\u001b[38;5;21;01m.\u001b[39;00m\u001b[38;5;21;01mstateless_scope\u001b[39;00m \u001b[38;5;28;01mimport\u001b[39;00m get_stateless_scope\n\u001b[0;32m     10\u001b[0m \u001b[38;5;28;01mfrom\u001b[39;00m \u001b[38;5;21;01mkeras\u001b[39;00m\u001b[38;5;21;01m.\u001b[39;00m\u001b[38;5;21;01msrc\u001b[39;00m\u001b[38;5;21;01m.\u001b[39;00m\u001b[38;5;21;01mbackend\u001b[39;00m\u001b[38;5;21;01m.\u001b[39;00m\u001b[38;5;21;01mcommon\u001b[39;00m\u001b[38;5;21;01m.\u001b[39;00m\u001b[38;5;21;01mstateless_scope\u001b[39;00m \u001b[38;5;28;01mimport\u001b[39;00m in_stateless_scope\n\u001b[1;32m---> 11\u001b[0m \u001b[38;5;28;01mfrom\u001b[39;00m \u001b[38;5;21;01mkeras\u001b[39;00m\u001b[38;5;21;01m.\u001b[39;00m\u001b[38;5;21;01msrc\u001b[39;00m\u001b[38;5;21;01m.\u001b[39;00m\u001b[38;5;21;01mutils\u001b[39;00m\u001b[38;5;21;01m.\u001b[39;00m\u001b[38;5;21;01mmodule_utils\u001b[39;00m \u001b[38;5;28;01mimport\u001b[39;00m tensorflow \u001b[38;5;28;01mas\u001b[39;00m tf\n\u001b[0;32m     12\u001b[0m \u001b[38;5;28;01mfrom\u001b[39;00m \u001b[38;5;21;01mkeras\u001b[39;00m\u001b[38;5;21;01m.\u001b[39;00m\u001b[38;5;21;01msrc\u001b[39;00m\u001b[38;5;21;01m.\u001b[39;00m\u001b[38;5;21;01mutils\u001b[39;00m\u001b[38;5;21;01m.\u001b[39;00m\u001b[38;5;21;01mnaming\u001b[39;00m \u001b[38;5;28;01mimport\u001b[39;00m auto_name\n\u001b[0;32m     15\u001b[0m \u001b[38;5;28;01mclass\u001b[39;00m \u001b[38;5;21;01mVariable\u001b[39;00m:\n",
      "File \u001b[1;32mc:\\Users\\lydia\\anaconda3\\Lib\\site-packages\\keras\\src\\utils\\__init__.py:1\u001b[0m\n\u001b[1;32m----> 1\u001b[0m \u001b[38;5;28;01mfrom\u001b[39;00m \u001b[38;5;21;01mkeras\u001b[39;00m\u001b[38;5;21;01m.\u001b[39;00m\u001b[38;5;21;01msrc\u001b[39;00m\u001b[38;5;21;01m.\u001b[39;00m\u001b[38;5;21;01mutils\u001b[39;00m\u001b[38;5;21;01m.\u001b[39;00m\u001b[38;5;21;01maudio_dataset_utils\u001b[39;00m \u001b[38;5;28;01mimport\u001b[39;00m audio_dataset_from_directory\n\u001b[0;32m      2\u001b[0m \u001b[38;5;28;01mfrom\u001b[39;00m \u001b[38;5;21;01mkeras\u001b[39;00m\u001b[38;5;21;01m.\u001b[39;00m\u001b[38;5;21;01msrc\u001b[39;00m\u001b[38;5;21;01m.\u001b[39;00m\u001b[38;5;21;01mutils\u001b[39;00m\u001b[38;5;21;01m.\u001b[39;00m\u001b[38;5;21;01mdataset_utils\u001b[39;00m \u001b[38;5;28;01mimport\u001b[39;00m split_dataset\n\u001b[0;32m      3\u001b[0m \u001b[38;5;28;01mfrom\u001b[39;00m \u001b[38;5;21;01mkeras\u001b[39;00m\u001b[38;5;21;01m.\u001b[39;00m\u001b[38;5;21;01msrc\u001b[39;00m\u001b[38;5;21;01m.\u001b[39;00m\u001b[38;5;21;01mutils\u001b[39;00m\u001b[38;5;21;01m.\u001b[39;00m\u001b[38;5;21;01mfile_utils\u001b[39;00m \u001b[38;5;28;01mimport\u001b[39;00m get_file\n",
      "File \u001b[1;32mc:\\Users\\lydia\\anaconda3\\Lib\\site-packages\\keras\\src\\utils\\audio_dataset_utils.py:4\u001b[0m\n\u001b[0;32m      1\u001b[0m \u001b[38;5;28;01mimport\u001b[39;00m \u001b[38;5;21;01mnumpy\u001b[39;00m \u001b[38;5;28;01mas\u001b[39;00m \u001b[38;5;21;01mnp\u001b[39;00m\n\u001b[0;32m      3\u001b[0m \u001b[38;5;28;01mfrom\u001b[39;00m \u001b[38;5;21;01mkeras\u001b[39;00m\u001b[38;5;21;01m.\u001b[39;00m\u001b[38;5;21;01msrc\u001b[39;00m\u001b[38;5;21;01m.\u001b[39;00m\u001b[38;5;21;01mapi_export\u001b[39;00m \u001b[38;5;28;01mimport\u001b[39;00m keras_export\n\u001b[1;32m----> 4\u001b[0m \u001b[38;5;28;01mfrom\u001b[39;00m \u001b[38;5;21;01mkeras\u001b[39;00m\u001b[38;5;21;01m.\u001b[39;00m\u001b[38;5;21;01msrc\u001b[39;00m\u001b[38;5;21;01m.\u001b[39;00m\u001b[38;5;21;01mutils\u001b[39;00m \u001b[38;5;28;01mimport\u001b[39;00m dataset_utils\n\u001b[0;32m      5\u001b[0m \u001b[38;5;28;01mfrom\u001b[39;00m \u001b[38;5;21;01mkeras\u001b[39;00m\u001b[38;5;21;01m.\u001b[39;00m\u001b[38;5;21;01msrc\u001b[39;00m\u001b[38;5;21;01m.\u001b[39;00m\u001b[38;5;21;01mutils\u001b[39;00m\u001b[38;5;21;01m.\u001b[39;00m\u001b[38;5;21;01mmodule_utils\u001b[39;00m \u001b[38;5;28;01mimport\u001b[39;00m tensorflow \u001b[38;5;28;01mas\u001b[39;00m tf\n\u001b[0;32m      6\u001b[0m \u001b[38;5;28;01mfrom\u001b[39;00m \u001b[38;5;21;01mkeras\u001b[39;00m\u001b[38;5;21;01m.\u001b[39;00m\u001b[38;5;21;01msrc\u001b[39;00m\u001b[38;5;21;01m.\u001b[39;00m\u001b[38;5;21;01mutils\u001b[39;00m\u001b[38;5;21;01m.\u001b[39;00m\u001b[38;5;21;01mmodule_utils\u001b[39;00m \u001b[38;5;28;01mimport\u001b[39;00m tensorflow_io \u001b[38;5;28;01mas\u001b[39;00m tfio\n",
      "File \u001b[1;32mc:\\Users\\lydia\\anaconda3\\Lib\\site-packages\\keras\\src\\utils\\dataset_utils.py:9\u001b[0m\n\u001b[0;32m      5\u001b[0m \u001b[38;5;28;01mfrom\u001b[39;00m \u001b[38;5;21;01mmultiprocessing\u001b[39;00m\u001b[38;5;21;01m.\u001b[39;00m\u001b[38;5;21;01mpool\u001b[39;00m \u001b[38;5;28;01mimport\u001b[39;00m ThreadPool\n\u001b[0;32m      7\u001b[0m \u001b[38;5;28;01mimport\u001b[39;00m \u001b[38;5;21;01mnumpy\u001b[39;00m \u001b[38;5;28;01mas\u001b[39;00m \u001b[38;5;21;01mnp\u001b[39;00m\n\u001b[1;32m----> 9\u001b[0m \u001b[38;5;28;01mfrom\u001b[39;00m \u001b[38;5;21;01mkeras\u001b[39;00m\u001b[38;5;21;01m.\u001b[39;00m\u001b[38;5;21;01msrc\u001b[39;00m \u001b[38;5;28;01mimport\u001b[39;00m tree\n\u001b[0;32m     10\u001b[0m \u001b[38;5;28;01mfrom\u001b[39;00m \u001b[38;5;21;01mkeras\u001b[39;00m\u001b[38;5;21;01m.\u001b[39;00m\u001b[38;5;21;01msrc\u001b[39;00m\u001b[38;5;21;01m.\u001b[39;00m\u001b[38;5;21;01mapi_export\u001b[39;00m \u001b[38;5;28;01mimport\u001b[39;00m keras_export\n\u001b[0;32m     11\u001b[0m \u001b[38;5;28;01mfrom\u001b[39;00m \u001b[38;5;21;01mkeras\u001b[39;00m\u001b[38;5;21;01m.\u001b[39;00m\u001b[38;5;21;01msrc\u001b[39;00m\u001b[38;5;21;01m.\u001b[39;00m\u001b[38;5;21;01mutils\u001b[39;00m \u001b[38;5;28;01mimport\u001b[39;00m io_utils\n",
      "File \u001b[1;32mc:\\Users\\lydia\\anaconda3\\Lib\\site-packages\\keras\\src\\tree\\__init__.py:1\u001b[0m\n\u001b[1;32m----> 1\u001b[0m \u001b[38;5;28;01mfrom\u001b[39;00m \u001b[38;5;21;01mkeras\u001b[39;00m\u001b[38;5;21;01m.\u001b[39;00m\u001b[38;5;21;01msrc\u001b[39;00m\u001b[38;5;21;01m.\u001b[39;00m\u001b[38;5;21;01mtree\u001b[39;00m\u001b[38;5;21;01m.\u001b[39;00m\u001b[38;5;21;01mtree_api\u001b[39;00m \u001b[38;5;28;01mimport\u001b[39;00m assert_same_paths\n\u001b[0;32m      2\u001b[0m \u001b[38;5;28;01mfrom\u001b[39;00m \u001b[38;5;21;01mkeras\u001b[39;00m\u001b[38;5;21;01m.\u001b[39;00m\u001b[38;5;21;01msrc\u001b[39;00m\u001b[38;5;21;01m.\u001b[39;00m\u001b[38;5;21;01mtree\u001b[39;00m\u001b[38;5;21;01m.\u001b[39;00m\u001b[38;5;21;01mtree_api\u001b[39;00m \u001b[38;5;28;01mimport\u001b[39;00m assert_same_structure\n\u001b[0;32m      3\u001b[0m \u001b[38;5;28;01mfrom\u001b[39;00m \u001b[38;5;21;01mkeras\u001b[39;00m\u001b[38;5;21;01m.\u001b[39;00m\u001b[38;5;21;01msrc\u001b[39;00m\u001b[38;5;21;01m.\u001b[39;00m\u001b[38;5;21;01mtree\u001b[39;00m\u001b[38;5;21;01m.\u001b[39;00m\u001b[38;5;21;01mtree_api\u001b[39;00m \u001b[38;5;28;01mimport\u001b[39;00m flatten\n",
      "File \u001b[1;32mc:\\Users\\lydia\\anaconda3\\Lib\\site-packages\\keras\\src\\tree\\tree_api.py:8\u001b[0m\n\u001b[0;32m      5\u001b[0m \u001b[38;5;28;01mfrom\u001b[39;00m \u001b[38;5;21;01mkeras\u001b[39;00m\u001b[38;5;21;01m.\u001b[39;00m\u001b[38;5;21;01msrc\u001b[39;00m\u001b[38;5;21;01m.\u001b[39;00m\u001b[38;5;21;01mutils\u001b[39;00m\u001b[38;5;21;01m.\u001b[39;00m\u001b[38;5;21;01mmodule_utils\u001b[39;00m \u001b[38;5;28;01mimport\u001b[39;00m optree\n\u001b[0;32m      7\u001b[0m \u001b[38;5;28;01mif\u001b[39;00m optree\u001b[38;5;241m.\u001b[39mavailable:\n\u001b[1;32m----> 8\u001b[0m     \u001b[38;5;28;01mfrom\u001b[39;00m \u001b[38;5;21;01mkeras\u001b[39;00m\u001b[38;5;21;01m.\u001b[39;00m\u001b[38;5;21;01msrc\u001b[39;00m\u001b[38;5;21;01m.\u001b[39;00m\u001b[38;5;21;01mtree\u001b[39;00m \u001b[38;5;28;01mimport\u001b[39;00m optree_impl \u001b[38;5;28;01mas\u001b[39;00m tree_impl\n\u001b[0;32m      9\u001b[0m \u001b[38;5;28;01melif\u001b[39;00m dmtree\u001b[38;5;241m.\u001b[39mavailable:\n\u001b[0;32m     10\u001b[0m     \u001b[38;5;28;01mfrom\u001b[39;00m \u001b[38;5;21;01mkeras\u001b[39;00m\u001b[38;5;21;01m.\u001b[39;00m\u001b[38;5;21;01msrc\u001b[39;00m\u001b[38;5;21;01m.\u001b[39;00m\u001b[38;5;21;01mtree\u001b[39;00m \u001b[38;5;28;01mimport\u001b[39;00m dmtree_impl \u001b[38;5;28;01mas\u001b[39;00m tree_impl\n",
      "File \u001b[1;32mc:\\Users\\lydia\\anaconda3\\Lib\\site-packages\\keras\\src\\tree\\optree_impl.py:13\u001b[0m\n\u001b[0;32m     11\u001b[0m \u001b[38;5;66;03m# Register backend-specific node classes\u001b[39;00m\n\u001b[0;32m     12\u001b[0m \u001b[38;5;28;01mif\u001b[39;00m backend() \u001b[38;5;241m==\u001b[39m \u001b[38;5;124m\"\u001b[39m\u001b[38;5;124mtensorflow\u001b[39m\u001b[38;5;124m\"\u001b[39m:\n\u001b[1;32m---> 13\u001b[0m     \u001b[38;5;28;01mfrom\u001b[39;00m \u001b[38;5;21;01mtensorflow\u001b[39;00m\u001b[38;5;21;01m.\u001b[39;00m\u001b[38;5;21;01mpython\u001b[39;00m\u001b[38;5;21;01m.\u001b[39;00m\u001b[38;5;21;01mtrackable\u001b[39;00m\u001b[38;5;21;01m.\u001b[39;00m\u001b[38;5;21;01mdata_structures\u001b[39;00m \u001b[38;5;28;01mimport\u001b[39;00m ListWrapper\n\u001b[0;32m     14\u001b[0m     \u001b[38;5;28;01mfrom\u001b[39;00m \u001b[38;5;21;01mtensorflow\u001b[39;00m\u001b[38;5;21;01m.\u001b[39;00m\u001b[38;5;21;01mpython\u001b[39;00m\u001b[38;5;21;01m.\u001b[39;00m\u001b[38;5;21;01mtrackable\u001b[39;00m\u001b[38;5;21;01m.\u001b[39;00m\u001b[38;5;21;01mdata_structures\u001b[39;00m \u001b[38;5;28;01mimport\u001b[39;00m _DictWrapper\n\u001b[0;32m     16\u001b[0m     \u001b[38;5;28;01mtry\u001b[39;00m:\n",
      "\u001b[1;31mModuleNotFoundError\u001b[0m: No module named 'tensorflow'"
     ]
    }
   ],
   "source": [
    "from keras.layers import Dense, Dropout, LSTM, Input\n",
    "from keras.models import Sequential"
   ]
  },
  {
   "cell_type": "code",
   "execution_count": null,
   "id": "34f5f2d9",
   "metadata": {},
   "outputs": [],
   "source": [
    "\n",
    "model = Sequential()\n",
    "model.add(Input(shape=(x_train.shape[1], 1)))                     # changed: Input instead of input_shape in LSTM\n",
    "model.add(LSTM(50, activation='relu', return_sequences=True))\n",
    "model.add(Dropout(0.2))\n",
    "model.add(LSTM(60, activation='relu', return_sequences=True))\n",
    "model.add(Dropout(0.3))\n",
    "model.add(LSTM(80, activation='relu', return_sequences=True))\n",
    "model.add(Dropout(0.4))\n",
    "model.add(LSTM(120, activation='relu', return_sequences=False))   # changed: return_sequences=False on final LSTM\n",
    "model.add(Dropout(0.5))\n",
    "model.add(Dense(1))\n",
    "# ...existing code..."
   ]
  },
  {
   "cell_type": "code",
   "execution_count": null,
   "id": "0aaa79d6",
   "metadata": {},
   "outputs": [],
   "source": [
    "# model = Sequential()\n",
    "\n",
    "# model.add(LSTM(units=50, activation='relu', return_sequences=True, input_shape=(x_train.shape[1], 1)))\n",
    "# model.add(Dropout(0.2))\n",
    "# model.add(LSTM(units=60, activation='relu', return_sequences=True))\n",
    "# model.add(Dropout(0.3))\n",
    "# model.add(LSTM(units=80, activation='relu', return_sequences=True))\n",
    "# model.add(Dropout(0.4))\n",
    "# model.add(LSTM(units=120, activation='relu', return_sequences=True))\n",
    "# model.add(Dropout(0.5))\n",
    "# model.add(Dense(units=1)) #output layer"
   ]
  },
  {
   "cell_type": "code",
   "execution_count": null,
   "id": "e209d3c9",
   "metadata": {},
   "outputs": [
    {
     "data": {
      "text/html": [
       "<pre style=\"white-space:pre;overflow-x:auto;line-height:normal;font-family:Menlo,'DejaVu Sans Mono',consolas,'Courier New',monospace\"><span style=\"font-weight: bold\">Model: \"sequential_1\"</span>\n",
       "</pre>\n"
      ],
      "text/plain": [
       "\u001b[1mModel: \"sequential_1\"\u001b[0m\n"
      ]
     },
     "metadata": {},
     "output_type": "display_data"
    },
    {
     "data": {
      "text/html": [
       "<pre style=\"white-space:pre;overflow-x:auto;line-height:normal;font-family:Menlo,'DejaVu Sans Mono',consolas,'Courier New',monospace\">┏━━━━━━━━━━━━━━━━━━━━━━━━━━━━━━━━━┳━━━━━━━━━━━━━━━━━━━━━━━━┳━━━━━━━━━━━━━━━┓\n",
       "┃<span style=\"font-weight: bold\"> Layer (type)                    </span>┃<span style=\"font-weight: bold\"> Output Shape           </span>┃<span style=\"font-weight: bold\">       Param # </span>┃\n",
       "┡━━━━━━━━━━━━━━━━━━━━━━━━━━━━━━━━━╇━━━━━━━━━━━━━━━━━━━━━━━━╇━━━━━━━━━━━━━━━┩\n",
       "│ lstm (<span style=\"color: #0087ff; text-decoration-color: #0087ff\">LSTM</span>)                     │ (<span style=\"color: #00d7ff; text-decoration-color: #00d7ff\">None</span>, <span style=\"color: #00af00; text-decoration-color: #00af00\">100</span>, <span style=\"color: #00af00; text-decoration-color: #00af00\">50</span>)        │        <span style=\"color: #00af00; text-decoration-color: #00af00\">10,400</span> │\n",
       "├─────────────────────────────────┼────────────────────────┼───────────────┤\n",
       "│ dropout (<span style=\"color: #0087ff; text-decoration-color: #0087ff\">Dropout</span>)               │ (<span style=\"color: #00d7ff; text-decoration-color: #00d7ff\">None</span>, <span style=\"color: #00af00; text-decoration-color: #00af00\">100</span>, <span style=\"color: #00af00; text-decoration-color: #00af00\">50</span>)        │             <span style=\"color: #00af00; text-decoration-color: #00af00\">0</span> │\n",
       "├─────────────────────────────────┼────────────────────────┼───────────────┤\n",
       "│ lstm_1 (<span style=\"color: #0087ff; text-decoration-color: #0087ff\">LSTM</span>)                   │ (<span style=\"color: #00d7ff; text-decoration-color: #00d7ff\">None</span>, <span style=\"color: #00af00; text-decoration-color: #00af00\">100</span>, <span style=\"color: #00af00; text-decoration-color: #00af00\">60</span>)        │        <span style=\"color: #00af00; text-decoration-color: #00af00\">26,640</span> │\n",
       "├─────────────────────────────────┼────────────────────────┼───────────────┤\n",
       "│ dropout_1 (<span style=\"color: #0087ff; text-decoration-color: #0087ff\">Dropout</span>)             │ (<span style=\"color: #00d7ff; text-decoration-color: #00d7ff\">None</span>, <span style=\"color: #00af00; text-decoration-color: #00af00\">100</span>, <span style=\"color: #00af00; text-decoration-color: #00af00\">60</span>)        │             <span style=\"color: #00af00; text-decoration-color: #00af00\">0</span> │\n",
       "├─────────────────────────────────┼────────────────────────┼───────────────┤\n",
       "│ lstm_2 (<span style=\"color: #0087ff; text-decoration-color: #0087ff\">LSTM</span>)                   │ (<span style=\"color: #00d7ff; text-decoration-color: #00d7ff\">None</span>, <span style=\"color: #00af00; text-decoration-color: #00af00\">100</span>, <span style=\"color: #00af00; text-decoration-color: #00af00\">80</span>)        │        <span style=\"color: #00af00; text-decoration-color: #00af00\">45,120</span> │\n",
       "├─────────────────────────────────┼────────────────────────┼───────────────┤\n",
       "│ dropout_2 (<span style=\"color: #0087ff; text-decoration-color: #0087ff\">Dropout</span>)             │ (<span style=\"color: #00d7ff; text-decoration-color: #00d7ff\">None</span>, <span style=\"color: #00af00; text-decoration-color: #00af00\">100</span>, <span style=\"color: #00af00; text-decoration-color: #00af00\">80</span>)        │             <span style=\"color: #00af00; text-decoration-color: #00af00\">0</span> │\n",
       "├─────────────────────────────────┼────────────────────────┼───────────────┤\n",
       "│ lstm_3 (<span style=\"color: #0087ff; text-decoration-color: #0087ff\">LSTM</span>)                   │ (<span style=\"color: #00d7ff; text-decoration-color: #00d7ff\">None</span>, <span style=\"color: #00af00; text-decoration-color: #00af00\">120</span>)            │        <span style=\"color: #00af00; text-decoration-color: #00af00\">96,480</span> │\n",
       "├─────────────────────────────────┼────────────────────────┼───────────────┤\n",
       "│ dropout_3 (<span style=\"color: #0087ff; text-decoration-color: #0087ff\">Dropout</span>)             │ (<span style=\"color: #00d7ff; text-decoration-color: #00d7ff\">None</span>, <span style=\"color: #00af00; text-decoration-color: #00af00\">120</span>)            │             <span style=\"color: #00af00; text-decoration-color: #00af00\">0</span> │\n",
       "├─────────────────────────────────┼────────────────────────┼───────────────┤\n",
       "│ dense (<span style=\"color: #0087ff; text-decoration-color: #0087ff\">Dense</span>)                   │ (<span style=\"color: #00d7ff; text-decoration-color: #00d7ff\">None</span>, <span style=\"color: #00af00; text-decoration-color: #00af00\">1</span>)              │           <span style=\"color: #00af00; text-decoration-color: #00af00\">121</span> │\n",
       "└─────────────────────────────────┴────────────────────────┴───────────────┘\n",
       "</pre>\n"
      ],
      "text/plain": [
       "┏━━━━━━━━━━━━━━━━━━━━━━━━━━━━━━━━━┳━━━━━━━━━━━━━━━━━━━━━━━━┳━━━━━━━━━━━━━━━┓\n",
       "┃\u001b[1m \u001b[0m\u001b[1mLayer (type)                   \u001b[0m\u001b[1m \u001b[0m┃\u001b[1m \u001b[0m\u001b[1mOutput Shape          \u001b[0m\u001b[1m \u001b[0m┃\u001b[1m \u001b[0m\u001b[1m      Param #\u001b[0m\u001b[1m \u001b[0m┃\n",
       "┡━━━━━━━━━━━━━━━━━━━━━━━━━━━━━━━━━╇━━━━━━━━━━━━━━━━━━━━━━━━╇━━━━━━━━━━━━━━━┩\n",
       "│ lstm (\u001b[38;5;33mLSTM\u001b[0m)                     │ (\u001b[38;5;45mNone\u001b[0m, \u001b[38;5;34m100\u001b[0m, \u001b[38;5;34m50\u001b[0m)        │        \u001b[38;5;34m10,400\u001b[0m │\n",
       "├─────────────────────────────────┼────────────────────────┼───────────────┤\n",
       "│ dropout (\u001b[38;5;33mDropout\u001b[0m)               │ (\u001b[38;5;45mNone\u001b[0m, \u001b[38;5;34m100\u001b[0m, \u001b[38;5;34m50\u001b[0m)        │             \u001b[38;5;34m0\u001b[0m │\n",
       "├─────────────────────────────────┼────────────────────────┼───────────────┤\n",
       "│ lstm_1 (\u001b[38;5;33mLSTM\u001b[0m)                   │ (\u001b[38;5;45mNone\u001b[0m, \u001b[38;5;34m100\u001b[0m, \u001b[38;5;34m60\u001b[0m)        │        \u001b[38;5;34m26,640\u001b[0m │\n",
       "├─────────────────────────────────┼────────────────────────┼───────────────┤\n",
       "│ dropout_1 (\u001b[38;5;33mDropout\u001b[0m)             │ (\u001b[38;5;45mNone\u001b[0m, \u001b[38;5;34m100\u001b[0m, \u001b[38;5;34m60\u001b[0m)        │             \u001b[38;5;34m0\u001b[0m │\n",
       "├─────────────────────────────────┼────────────────────────┼───────────────┤\n",
       "│ lstm_2 (\u001b[38;5;33mLSTM\u001b[0m)                   │ (\u001b[38;5;45mNone\u001b[0m, \u001b[38;5;34m100\u001b[0m, \u001b[38;5;34m80\u001b[0m)        │        \u001b[38;5;34m45,120\u001b[0m │\n",
       "├─────────────────────────────────┼────────────────────────┼───────────────┤\n",
       "│ dropout_2 (\u001b[38;5;33mDropout\u001b[0m)             │ (\u001b[38;5;45mNone\u001b[0m, \u001b[38;5;34m100\u001b[0m, \u001b[38;5;34m80\u001b[0m)        │             \u001b[38;5;34m0\u001b[0m │\n",
       "├─────────────────────────────────┼────────────────────────┼───────────────┤\n",
       "│ lstm_3 (\u001b[38;5;33mLSTM\u001b[0m)                   │ (\u001b[38;5;45mNone\u001b[0m, \u001b[38;5;34m120\u001b[0m)            │        \u001b[38;5;34m96,480\u001b[0m │\n",
       "├─────────────────────────────────┼────────────────────────┼───────────────┤\n",
       "│ dropout_3 (\u001b[38;5;33mDropout\u001b[0m)             │ (\u001b[38;5;45mNone\u001b[0m, \u001b[38;5;34m120\u001b[0m)            │             \u001b[38;5;34m0\u001b[0m │\n",
       "├─────────────────────────────────┼────────────────────────┼───────────────┤\n",
       "│ dense (\u001b[38;5;33mDense\u001b[0m)                   │ (\u001b[38;5;45mNone\u001b[0m, \u001b[38;5;34m1\u001b[0m)              │           \u001b[38;5;34m121\u001b[0m │\n",
       "└─────────────────────────────────┴────────────────────────┴───────────────┘\n"
      ]
     },
     "metadata": {},
     "output_type": "display_data"
    },
    {
     "data": {
      "text/html": [
       "<pre style=\"white-space:pre;overflow-x:auto;line-height:normal;font-family:Menlo,'DejaVu Sans Mono',consolas,'Courier New',monospace\"><span style=\"font-weight: bold\"> Total params: </span><span style=\"color: #00af00; text-decoration-color: #00af00\">178,761</span> (698.29 KB)\n",
       "</pre>\n"
      ],
      "text/plain": [
       "\u001b[1m Total params: \u001b[0m\u001b[38;5;34m178,761\u001b[0m (698.29 KB)\n"
      ]
     },
     "metadata": {},
     "output_type": "display_data"
    },
    {
     "data": {
      "text/html": [
       "<pre style=\"white-space:pre;overflow-x:auto;line-height:normal;font-family:Menlo,'DejaVu Sans Mono',consolas,'Courier New',monospace\"><span style=\"font-weight: bold\"> Trainable params: </span><span style=\"color: #00af00; text-decoration-color: #00af00\">178,761</span> (698.29 KB)\n",
       "</pre>\n"
      ],
      "text/plain": [
       "\u001b[1m Trainable params: \u001b[0m\u001b[38;5;34m178,761\u001b[0m (698.29 KB)\n"
      ]
     },
     "metadata": {},
     "output_type": "display_data"
    },
    {
     "data": {
      "text/html": [
       "<pre style=\"white-space:pre;overflow-x:auto;line-height:normal;font-family:Menlo,'DejaVu Sans Mono',consolas,'Courier New',monospace\"><span style=\"font-weight: bold\"> Non-trainable params: </span><span style=\"color: #00af00; text-decoration-color: #00af00\">0</span> (0.00 B)\n",
       "</pre>\n"
      ],
      "text/plain": [
       "\u001b[1m Non-trainable params: \u001b[0m\u001b[38;5;34m0\u001b[0m (0.00 B)\n"
      ]
     },
     "metadata": {},
     "output_type": "display_data"
    }
   ],
   "source": [
    "model.summary()"
   ]
  },
  {
   "cell_type": "code",
   "execution_count": null,
   "id": "83faf71a",
   "metadata": {},
   "outputs": [
    {
     "name": "stdout",
     "output_type": "stream",
     "text": [
      "Epoch 1/50\n",
      "\u001b[1m56/56\u001b[0m \u001b[32m━━━━━━━━━━━━━━━━━━━━\u001b[0m\u001b[37m\u001b[0m \u001b[1m6s\u001b[0m 66ms/step - loss: 0.0326\n",
      "Epoch 2/50\n",
      "\u001b[1m56/56\u001b[0m \u001b[32m━━━━━━━━━━━━━━━━━━━━\u001b[0m\u001b[37m\u001b[0m \u001b[1m4s\u001b[0m 68ms/step - loss: 0.0063\n",
      "Epoch 3/50\n",
      "\u001b[1m56/56\u001b[0m \u001b[32m━━━━━━━━━━━━━━━━━━━━\u001b[0m\u001b[37m\u001b[0m \u001b[1m4s\u001b[0m 67ms/step - loss: 0.0062\n",
      "Epoch 4/50\n",
      "\u001b[1m56/56\u001b[0m \u001b[32m━━━━━━━━━━━━━━━━━━━━\u001b[0m\u001b[37m\u001b[0m \u001b[1m4s\u001b[0m 67ms/step - loss: 0.0064\n",
      "Epoch 5/50\n",
      "\u001b[1m56/56\u001b[0m \u001b[32m━━━━━━━━━━━━━━━━━━━━\u001b[0m\u001b[37m\u001b[0m \u001b[1m4s\u001b[0m 67ms/step - loss: 0.0056\n",
      "Epoch 6/50\n",
      "\u001b[1m56/56\u001b[0m \u001b[32m━━━━━━━━━━━━━━━━━━━━\u001b[0m\u001b[37m\u001b[0m \u001b[1m4s\u001b[0m 66ms/step - loss: 0.0046\n",
      "Epoch 7/50\n",
      "\u001b[1m56/56\u001b[0m \u001b[32m━━━━━━━━━━━━━━━━━━━━\u001b[0m\u001b[37m\u001b[0m \u001b[1m4s\u001b[0m 66ms/step - loss: 0.0048\n",
      "Epoch 8/50\n",
      "\u001b[1m56/56\u001b[0m \u001b[32m━━━━━━━━━━━━━━━━━━━━\u001b[0m\u001b[37m\u001b[0m \u001b[1m4s\u001b[0m 66ms/step - loss: 0.0040\n",
      "Epoch 9/50\n",
      "\u001b[1m56/56\u001b[0m \u001b[32m━━━━━━━━━━━━━━━━━━━━\u001b[0m\u001b[37m\u001b[0m \u001b[1m4s\u001b[0m 66ms/step - loss: 0.0037\n",
      "Epoch 10/50\n",
      "\u001b[1m56/56\u001b[0m \u001b[32m━━━━━━━━━━━━━━━━━━━━\u001b[0m\u001b[37m\u001b[0m \u001b[1m4s\u001b[0m 65ms/step - loss: 0.0042\n",
      "Epoch 11/50\n",
      "\u001b[1m56/56\u001b[0m \u001b[32m━━━━━━━━━━━━━━━━━━━━\u001b[0m\u001b[37m\u001b[0m \u001b[1m4s\u001b[0m 66ms/step - loss: 0.0038\n",
      "Epoch 12/50\n",
      "\u001b[1m56/56\u001b[0m \u001b[32m━━━━━━━━━━━━━━━━━━━━\u001b[0m\u001b[37m\u001b[0m \u001b[1m4s\u001b[0m 66ms/step - loss: 0.0036\n",
      "Epoch 13/50\n",
      "\u001b[1m56/56\u001b[0m \u001b[32m━━━━━━━━━━━━━━━━━━━━\u001b[0m\u001b[37m\u001b[0m \u001b[1m4s\u001b[0m 66ms/step - loss: 0.0044\n",
      "Epoch 14/50\n",
      "\u001b[1m56/56\u001b[0m \u001b[32m━━━━━━━━━━━━━━━━━━━━\u001b[0m\u001b[37m\u001b[0m \u001b[1m4s\u001b[0m 65ms/step - loss: 0.0035\n",
      "Epoch 15/50\n",
      "\u001b[1m56/56\u001b[0m \u001b[32m━━━━━━━━━━━━━━━━━━━━\u001b[0m\u001b[37m\u001b[0m \u001b[1m4s\u001b[0m 65ms/step - loss: 0.0034\n",
      "Epoch 16/50\n",
      "\u001b[1m56/56\u001b[0m \u001b[32m━━━━━━━━━━━━━━━━━━━━\u001b[0m\u001b[37m\u001b[0m \u001b[1m4s\u001b[0m 66ms/step - loss: 0.0034\n",
      "Epoch 17/50\n",
      "\u001b[1m56/56\u001b[0m \u001b[32m━━━━━━━━━━━━━━━━━━━━\u001b[0m\u001b[37m\u001b[0m \u001b[1m4s\u001b[0m 64ms/step - loss: 0.0036\n",
      "Epoch 18/50\n",
      "\u001b[1m56/56\u001b[0m \u001b[32m━━━━━━━━━━━━━━━━━━━━\u001b[0m\u001b[37m\u001b[0m \u001b[1m4s\u001b[0m 64ms/step - loss: 0.0044\n",
      "Epoch 19/50\n",
      "\u001b[1m56/56\u001b[0m \u001b[32m━━━━━━━━━━━━━━━━━━━━\u001b[0m\u001b[37m\u001b[0m \u001b[1m4s\u001b[0m 65ms/step - loss: 0.0031\n",
      "Epoch 20/50\n",
      "\u001b[1m56/56\u001b[0m \u001b[32m━━━━━━━━━━━━━━━━━━━━\u001b[0m\u001b[37m\u001b[0m \u001b[1m4s\u001b[0m 63ms/step - loss: 0.0034\n",
      "Epoch 21/50\n",
      "\u001b[1m56/56\u001b[0m \u001b[32m━━━━━━━━━━━━━━━━━━━━\u001b[0m\u001b[37m\u001b[0m \u001b[1m4s\u001b[0m 64ms/step - loss: 0.0028\n",
      "Epoch 22/50\n",
      "\u001b[1m56/56\u001b[0m \u001b[32m━━━━━━━━━━━━━━━━━━━━\u001b[0m\u001b[37m\u001b[0m \u001b[1m4s\u001b[0m 65ms/step - loss: 0.0033\n",
      "Epoch 23/50\n",
      "\u001b[1m56/56\u001b[0m \u001b[32m━━━━━━━━━━━━━━━━━━━━\u001b[0m\u001b[37m\u001b[0m \u001b[1m4s\u001b[0m 63ms/step - loss: 0.0031\n",
      "Epoch 24/50\n",
      "\u001b[1m56/56\u001b[0m \u001b[32m━━━━━━━━━━━━━━━━━━━━\u001b[0m\u001b[37m\u001b[0m \u001b[1m4s\u001b[0m 63ms/step - loss: 0.0031\n",
      "Epoch 25/50\n",
      "\u001b[1m56/56\u001b[0m \u001b[32m━━━━━━━━━━━━━━━━━━━━\u001b[0m\u001b[37m\u001b[0m \u001b[1m4s\u001b[0m 64ms/step - loss: 0.0034\n",
      "Epoch 26/50\n",
      "\u001b[1m56/56\u001b[0m \u001b[32m━━━━━━━━━━━━━━━━━━━━\u001b[0m\u001b[37m\u001b[0m \u001b[1m4s\u001b[0m 64ms/step - loss: 0.0031\n",
      "Epoch 27/50\n",
      "\u001b[1m56/56\u001b[0m \u001b[32m━━━━━━━━━━━━━━━━━━━━\u001b[0m\u001b[37m\u001b[0m \u001b[1m4s\u001b[0m 64ms/step - loss: 0.0033\n",
      "Epoch 28/50\n",
      "\u001b[1m56/56\u001b[0m \u001b[32m━━━━━━━━━━━━━━━━━━━━\u001b[0m\u001b[37m\u001b[0m \u001b[1m4s\u001b[0m 65ms/step - loss: 0.0031\n",
      "Epoch 29/50\n",
      "\u001b[1m56/56\u001b[0m \u001b[32m━━━━━━━━━━━━━━━━━━━━\u001b[0m\u001b[37m\u001b[0m \u001b[1m4s\u001b[0m 64ms/step - loss: 0.0027\n",
      "Epoch 30/50\n",
      "\u001b[1m56/56\u001b[0m \u001b[32m━━━━━━━━━━━━━━━━━━━━\u001b[0m\u001b[37m\u001b[0m \u001b[1m4s\u001b[0m 63ms/step - loss: 0.0027\n",
      "Epoch 31/50\n",
      "\u001b[1m56/56\u001b[0m \u001b[32m━━━━━━━━━━━━━━━━━━━━\u001b[0m\u001b[37m\u001b[0m \u001b[1m4s\u001b[0m 64ms/step - loss: 0.0028\n",
      "Epoch 32/50\n",
      "\u001b[1m56/56\u001b[0m \u001b[32m━━━━━━━━━━━━━━━━━━━━\u001b[0m\u001b[37m\u001b[0m \u001b[1m4s\u001b[0m 64ms/step - loss: 0.0031\n",
      "Epoch 33/50\n",
      "\u001b[1m56/56\u001b[0m \u001b[32m━━━━━━━━━━━━━━━━━━━━\u001b[0m\u001b[37m\u001b[0m \u001b[1m4s\u001b[0m 63ms/step - loss: 0.0028\n",
      "Epoch 34/50\n",
      "\u001b[1m56/56\u001b[0m \u001b[32m━━━━━━━━━━━━━━━━━━━━\u001b[0m\u001b[37m\u001b[0m \u001b[1m4s\u001b[0m 64ms/step - loss: 0.0030\n",
      "Epoch 35/50\n",
      "\u001b[1m56/56\u001b[0m \u001b[32m━━━━━━━━━━━━━━━━━━━━\u001b[0m\u001b[37m\u001b[0m \u001b[1m4s\u001b[0m 63ms/step - loss: 0.0027\n",
      "Epoch 36/50\n",
      "\u001b[1m56/56\u001b[0m \u001b[32m━━━━━━━━━━━━━━━━━━━━\u001b[0m\u001b[37m\u001b[0m \u001b[1m4s\u001b[0m 63ms/step - loss: 0.0028\n",
      "Epoch 37/50\n",
      "\u001b[1m56/56\u001b[0m \u001b[32m━━━━━━━━━━━━━━━━━━━━\u001b[0m\u001b[37m\u001b[0m \u001b[1m4s\u001b[0m 63ms/step - loss: 0.0030\n",
      "Epoch 38/50\n",
      "\u001b[1m56/56\u001b[0m \u001b[32m━━━━━━━━━━━━━━━━━━━━\u001b[0m\u001b[37m\u001b[0m \u001b[1m3s\u001b[0m 62ms/step - loss: 0.0025\n",
      "Epoch 39/50\n",
      "\u001b[1m56/56\u001b[0m \u001b[32m━━━━━━━━━━━━━━━━━━━━\u001b[0m\u001b[37m\u001b[0m \u001b[1m4s\u001b[0m 62ms/step - loss: 0.0027\n",
      "Epoch 40/50\n",
      "\u001b[1m56/56\u001b[0m \u001b[32m━━━━━━━━━━━━━━━━━━━━\u001b[0m\u001b[37m\u001b[0m \u001b[1m4s\u001b[0m 63ms/step - loss: 0.0025\n",
      "Epoch 41/50\n",
      "\u001b[1m56/56\u001b[0m \u001b[32m━━━━━━━━━━━━━━━━━━━━\u001b[0m\u001b[37m\u001b[0m \u001b[1m3s\u001b[0m 62ms/step - loss: 0.0025\n",
      "Epoch 42/50\n",
      "\u001b[1m56/56\u001b[0m \u001b[32m━━━━━━━━━━━━━━━━━━━━\u001b[0m\u001b[37m\u001b[0m \u001b[1m4s\u001b[0m 63ms/step - loss: 0.0024\n",
      "Epoch 43/50\n",
      "\u001b[1m56/56\u001b[0m \u001b[32m━━━━━━━━━━━━━━━━━━━━\u001b[0m\u001b[37m\u001b[0m \u001b[1m3s\u001b[0m 62ms/step - loss: 0.0028\n",
      "Epoch 44/50\n",
      "\u001b[1m56/56\u001b[0m \u001b[32m━━━━━━━━━━━━━━━━━━━━\u001b[0m\u001b[37m\u001b[0m \u001b[1m3s\u001b[0m 62ms/step - loss: 0.0027\n",
      "Epoch 45/50\n",
      "\u001b[1m56/56\u001b[0m \u001b[32m━━━━━━━━━━━━━━━━━━━━\u001b[0m\u001b[37m\u001b[0m \u001b[1m4s\u001b[0m 63ms/step - loss: 0.0031\n",
      "Epoch 46/50\n",
      "\u001b[1m56/56\u001b[0m \u001b[32m━━━━━━━━━━━━━━━━━━━━\u001b[0m\u001b[37m\u001b[0m \u001b[1m4s\u001b[0m 63ms/step - loss: 0.0025\n",
      "Epoch 47/50\n",
      "\u001b[1m56/56\u001b[0m \u001b[32m━━━━━━━━━━━━━━━━━━━━\u001b[0m\u001b[37m\u001b[0m \u001b[1m4s\u001b[0m 63ms/step - loss: 0.0026\n",
      "Epoch 48/50\n",
      "\u001b[1m56/56\u001b[0m \u001b[32m━━━━━━━━━━━━━━━━━━━━\u001b[0m\u001b[37m\u001b[0m \u001b[1m4s\u001b[0m 64ms/step - loss: 0.0029\n",
      "Epoch 49/50\n",
      "\u001b[1m56/56\u001b[0m \u001b[32m━━━━━━━━━━━━━━━━━━━━\u001b[0m\u001b[37m\u001b[0m \u001b[1m4s\u001b[0m 64ms/step - loss: 0.0028\n",
      "Epoch 50/50\n",
      "\u001b[1m56/56\u001b[0m \u001b[32m━━━━━━━━━━━━━━━━━━━━\u001b[0m\u001b[37m\u001b[0m \u001b[1m4s\u001b[0m 63ms/step - loss: 0.0023\n"
     ]
    },
    {
     "data": {
      "text/plain": [
       "<keras.src.callbacks.history.History at 0x1dd8d3a5fd0>"
      ]
     },
     "execution_count": 23,
     "metadata": {},
     "output_type": "execute_result"
    }
   ],
   "source": [
    "model.compile(optimizer='adam', loss='mean_squared_error')\n",
    "model.fit(x_train, y_train, epochs=50)"
   ]
  },
  {
   "cell_type": "markdown",
   "id": "5b1b3c39",
   "metadata": {},
   "source": []
  },
  {
   "cell_type": "code",
   "execution_count": null,
   "id": "09175ca2",
   "metadata": {},
   "outputs": [],
   "source": [
    "model.save('keras_model.keras')"
   ]
  },
  {
   "cell_type": "code",
   "execution_count": null,
   "id": "89d58178",
   "metadata": {},
   "outputs": [],
   "source": [
    "past_100_days = data_train.tail(100)"
   ]
  },
  {
   "cell_type": "code",
   "execution_count": null,
   "id": "917ae1ca",
   "metadata": {},
   "outputs": [],
   "source": [
    "\n",
    "final_df = pd.concat([past_100_days, data_test], ignore_index=True)"
   ]
  },
  {
   "cell_type": "code",
   "execution_count": null,
   "id": "9ebc21cb",
   "metadata": {},
   "outputs": [
    {
     "data": {
      "application/vnd.microsoft.datawrangler.viewer.v0+json": {
       "columns": [
        {
         "name": "index",
         "rawType": "int64",
         "type": "integer"
        },
        {
         "name": "AAPL",
         "rawType": "float64",
         "type": "float"
        }
       ],
       "ref": "5b4b4b73-3900-484c-9140-9beb3b4f91db",
       "rows": [
        [
         "0",
         "172.39405822753906"
        ],
        [
         "1",
         "169.5116729736328"
        ],
        [
         "2",
         "169.2270050048828"
        ],
        [
         "3",
         "168.51040649414062"
        ],
        [
         "4",
         "171.6222381591797"
        ]
       ],
       "shape": {
        "columns": 1,
        "rows": 5
       }
      },
      "text/html": [
       "<div>\n",
       "<style scoped>\n",
       "    .dataframe tbody tr th:only-of-type {\n",
       "        vertical-align: middle;\n",
       "    }\n",
       "\n",
       "    .dataframe tbody tr th {\n",
       "        vertical-align: top;\n",
       "    }\n",
       "\n",
       "    .dataframe thead th {\n",
       "        text-align: right;\n",
       "    }\n",
       "</style>\n",
       "<table border=\"1\" class=\"dataframe\">\n",
       "  <thead>\n",
       "    <tr style=\"text-align: right;\">\n",
       "      <th>Ticker</th>\n",
       "      <th>AAPL</th>\n",
       "    </tr>\n",
       "  </thead>\n",
       "  <tbody>\n",
       "    <tr>\n",
       "      <th>0</th>\n",
       "      <td>172.394058</td>\n",
       "    </tr>\n",
       "    <tr>\n",
       "      <th>1</th>\n",
       "      <td>169.511673</td>\n",
       "    </tr>\n",
       "    <tr>\n",
       "      <th>2</th>\n",
       "      <td>169.227005</td>\n",
       "    </tr>\n",
       "    <tr>\n",
       "      <th>3</th>\n",
       "      <td>168.510406</td>\n",
       "    </tr>\n",
       "    <tr>\n",
       "      <th>4</th>\n",
       "      <td>171.622238</td>\n",
       "    </tr>\n",
       "  </tbody>\n",
       "</table>\n",
       "</div>"
      ],
      "text/plain": [
       "Ticker        AAPL\n",
       "0       172.394058\n",
       "1       169.511673\n",
       "2       169.227005\n",
       "3       168.510406\n",
       "4       171.622238"
      ]
     },
     "execution_count": 27,
     "metadata": {},
     "output_type": "execute_result"
    }
   ],
   "source": [
    "final_df.head()"
   ]
  },
  {
   "cell_type": "code",
   "execution_count": null,
   "id": "fa19a7c8",
   "metadata": {},
   "outputs": [
    {
     "data": {
      "text/plain": [
       "array([[3.64277197e-01],\n",
       "       [3.42898069e-01],\n",
       "       [3.40786640e-01],\n",
       "       [3.35471510e-01],\n",
       "       [3.58552480e-01],\n",
       "       [3.69109854e-01],\n",
       "       [3.38820643e-01],\n",
       "       [3.13482358e-01],\n",
       "       [3.15230150e-01],\n",
       "       [3.43698909e-01],\n",
       "       [3.41951684e-01],\n",
       "       [3.15230150e-01],\n",
       "       [3.03725938e-01],\n",
       "       [2.82028444e-01],\n",
       "       [2.51083599e-01],\n",
       "       [2.70524232e-01],\n",
       "       [2.85887325e-01],\n",
       "       [2.87852983e-01],\n",
       "       [2.73873478e-01],\n",
       "       [2.98337923e-01],\n",
       "       [2.95935289e-01],\n",
       "       [2.73655159e-01],\n",
       "       [2.45477038e-01],\n",
       "       [2.31934509e-01],\n",
       "       [2.72053139e-01],\n",
       "       [2.39798158e-01],\n",
       "       [2.12202785e-01],\n",
       "       [1.82277778e-01],\n",
       "       [2.14824077e-01],\n",
       "       [2.47588694e-01],\n",
       "       [2.55088139e-01],\n",
       "       [2.79552358e-01],\n",
       "       [2.89746433e-01],\n",
       "       [3.14793061e-01],\n",
       "       [3.24913911e-01],\n",
       "       [3.53018806e-01],\n",
       "       [3.57751640e-01],\n",
       "       [3.64159041e-01],\n",
       "       [3.88623146e-01],\n",
       "       [3.79958544e-01],\n",
       "       [3.56950687e-01],\n",
       "       [3.54766258e-01],\n",
       "       [3.84837151e-01],\n",
       "       [3.60226933e-01],\n",
       "       [3.36708987e-01],\n",
       "       [3.38966188e-01],\n",
       "       [3.24040071e-01],\n",
       "       [2.92440158e-01],\n",
       "       [3.06347117e-01],\n",
       "       [3.26297273e-01],\n",
       "       [2.89090799e-01],\n",
       "       [2.87489345e-01],\n",
       "       [3.04453893e-01],\n",
       "       [3.03216076e-01],\n",
       "       [2.97318425e-01],\n",
       "       [2.63607082e-01],\n",
       "       [2.71543390e-01],\n",
       "       [2.27274561e-01],\n",
       "       [2.25599882e-01],\n",
       "       [2.77077291e-01],\n",
       "       [2.33463304e-01],\n",
       "       [2.35720732e-01],\n",
       "       [2.46787514e-01],\n",
       "       [2.94406155e-01],\n",
       "       [2.27056130e-01],\n",
       "       [2.32452068e-01],\n",
       "       [1.94388845e-01],\n",
       "       [2.12253489e-01],\n",
       "       [1.53846593e-01],\n",
       "       [1.25117188e-01],\n",
       "       [1.58294674e-01],\n",
       "       [1.46846598e-01],\n",
       "       [1.73826062e-01],\n",
       "       [1.12429371e-01],\n",
       "       [8.71268506e-02],\n",
       "       [8.88770191e-02],\n",
       "       [1.29127500e-01],\n",
       "       [1.09075259e-01],\n",
       "       [1.10241774e-01],\n",
       "       [1.34012897e-01],\n",
       "       [1.76742746e-01],\n",
       "       [1.70909492e-01],\n",
       "       [1.69961522e-01],\n",
       "       [1.88191048e-01],\n",
       "       [1.45679857e-01],\n",
       "       [1.51221680e-01],\n",
       "       [1.69961522e-01],\n",
       "       [1.64492698e-01],\n",
       "       [1.25700502e-01],\n",
       "       [8.55227935e-02],\n",
       "       [4.72410258e-02],\n",
       "       [5.36578200e-02],\n",
       "       [7.31267473e-02],\n",
       "       [3.39699519e-02],\n",
       "       [4.49077695e-02],\n",
       "       [7.63350878e-02],\n",
       "       [7.25436596e-02],\n",
       "       [9.38353018e-02],\n",
       "       [1.18554508e-01],\n",
       "       [1.18554508e-01],\n",
       "       [8.77831638e-02],\n",
       "       [1.00835523e-01],\n",
       "       [8.25329977e-02],\n",
       "       [9.86479258e-02],\n",
       "       [1.17825536e-01],\n",
       "       [1.27742214e-01],\n",
       "       [1.52752851e-01],\n",
       "       [1.57784133e-01],\n",
       "       [1.41961315e-01],\n",
       "       [1.49180081e-01],\n",
       "       [1.46481829e-01],\n",
       "       [1.68211466e-01],\n",
       "       [1.80607399e-01],\n",
       "       [1.58003131e-01],\n",
       "       [1.86659877e-01],\n",
       "       [2.01534951e-01],\n",
       "       [2.18378626e-01],\n",
       "       [2.09191146e-01],\n",
       "       [2.00878751e-01],\n",
       "       [1.91034732e-01],\n",
       "       [2.28879071e-01],\n",
       "       [2.32962269e-01],\n",
       "       [2.70588064e-01],\n",
       "       [2.63296298e-01],\n",
       "       [2.52358424e-01],\n",
       "       [2.96984100e-01],\n",
       "       [2.94650957e-01],\n",
       "       [2.92971411e-01],\n",
       "       [2.89466547e-01],\n",
       "       [2.89831542e-01],\n",
       "       [3.21375886e-01],\n",
       "       [3.15899479e-01],\n",
       "       [3.42259185e-01],\n",
       "       [3.50218468e-01],\n",
       "       [3.49050029e-01],\n",
       "       [3.60148954e-01],\n",
       "       [3.57228197e-01],\n",
       "       [3.38024103e-01],\n",
       "       [3.09181634e-01],\n",
       "       [3.06698758e-01],\n",
       "       [3.08889637e-01],\n",
       "       [3.27144176e-01],\n",
       "       [2.80339051e-01],\n",
       "       [2.63982830e-01],\n",
       "       [2.45947062e-01],\n",
       "       [2.33607039e-01],\n",
       "       [2.39010333e-01],\n",
       "       [2.23311217e-01],\n",
       "       [2.13964951e-01],\n",
       "       [2.24406544e-01],\n",
       "       [2.13453730e-01],\n",
       "       [2.34702139e-01],\n",
       "       [2.78951728e-01],\n",
       "       [2.08926539e-01],\n",
       "       [2.19660242e-01],\n",
       "       [1.98192722e-01],\n",
       "       [1.85998697e-01],\n",
       "       [2.13599729e-01],\n",
       "       [2.31270274e-01],\n",
       "       [2.08050209e-01],\n",
       "       [2.00894483e-01],\n",
       "       [1.84026928e-01],\n",
       "       [1.86509804e-01],\n",
       "       [1.93738530e-01],\n",
       "       [1.79718960e-01],\n",
       "       [1.25977106e-01],\n",
       "       [9.47246464e-02],\n",
       "       [1.25757769e-01],\n",
       "       [1.52409812e-01],\n",
       "       [1.54600126e-01],\n",
       "       [1.47517625e-01],\n",
       "       [1.08525445e-01],\n",
       "       [1.10934983e-01],\n",
       "       [1.00420051e-01],\n",
       "       [9.57468607e-02],\n",
       "       [1.29700968e-01],\n",
       "       [9.60391968e-02],\n",
       "       [1.25465886e-01],\n",
       "       [1.35250374e-01],\n",
       "       [1.36053364e-01],\n",
       "       [1.32621499e-01],\n",
       "       [1.60952862e-01],\n",
       "       [1.76870975e-01],\n",
       "       [1.97973725e-01],\n",
       "       [1.76140984e-01],\n",
       "       [1.42917547e-01],\n",
       "       [2.22800110e-01],\n",
       "       [2.05275903e-01],\n",
       "       [1.85633701e-01],\n",
       "       [1.44596867e-01],\n",
       "       [9.96898329e-02],\n",
       "       [9.77153476e-02],\n",
       "       [1.01664884e-01],\n",
       "       [1.05907209e-01],\n",
       "       [7.20430779e-02],\n",
       "       [1.59811246e-01],\n",
       "       [1.80510180e-01],\n",
       "       [1.70124044e-01],\n",
       "       [1.82996565e-01],\n",
       "       [1.73854017e-01],\n",
       "       [1.87970353e-01],\n",
       "       [1.92139113e-01],\n",
       "       [1.68149106e-01],\n",
       "       [1.84020364e-01],\n",
       "       [1.90530303e-01],\n",
       "       [1.68880568e-01],\n",
       "       [1.40429125e-01],\n",
       "       [1.18121267e-01],\n",
       "       [1.68295557e-01],\n",
       "       [1.70343381e-01],\n",
       "       [1.66686633e-01],\n",
       "       [1.58055871e-01],\n",
       "       [1.30847903e-01],\n",
       "       [1.16439231e-01],\n",
       "       [1.28946077e-01],\n",
       "       [1.25362216e-01],\n",
       "       [1.42403950e-01],\n",
       "       [1.49571786e-01],\n",
       "       [1.33041952e-01],\n",
       "       [8.39649127e-02],\n",
       "       [6.94101290e-02],\n",
       "       [5.37579816e-02],\n",
       "       [5.32460822e-02],\n",
       "       [7.62852899e-02],\n",
       "       [5.27339564e-02],\n",
       "       [5.00280085e-02],\n",
       "       [3.66433615e-02],\n",
       "       [7.46039896e-03],\n",
       "       [3.35714558e-02],\n",
       "       [3.59117856e-02],\n",
       "       [3.65731352e-04],\n",
       "       [9.80089852e-03],\n",
       "       [0.00000000e+00],\n",
       "       [3.36445681e-02],\n",
       "       [3.75208224e-02],\n",
       "       [4.17632608e-02],\n",
       "       [6.19497301e-02],\n",
       "       [6.13648315e-02],\n",
       "       [7.12386160e-02],\n",
       "       [7.98690384e-02],\n",
       "       [7.45301416e-02],\n",
       "       [7.49685891e-02],\n",
       "       [9.39850349e-02],\n",
       "       [1.17682706e-01],\n",
       "       [1.28068503e-01],\n",
       "       [1.23168054e-01],\n",
       "       [1.38527526e-01],\n",
       "       [1.52935972e-01],\n",
       "       [1.31506027e-01],\n",
       "       [1.40941138e-01],\n",
       "       [1.49279224e-01],\n",
       "       [1.88701702e-01],\n",
       "       [2.15617108e-01],\n",
       "       [1.95357526e-01],\n",
       "       [2.16714019e-01],\n",
       "       [1.96747226e-01],\n",
       "       [1.89067377e-01],\n",
       "       [1.91777739e-01],\n",
       "       [2.12581249e-01],\n",
       "       [2.07819781e-01],\n",
       "       [2.23422357e-01],\n",
       "       [2.11555753e-01],\n",
       "       [2.03058539e-01],\n",
       "       [1.73244898e-01],\n",
       "       [1.76394726e-01],\n",
       "       [1.79984021e-01],\n",
       "       [1.60279346e-01],\n",
       "       [1.69143026e-01],\n",
       "       [1.65406941e-01],\n",
       "       [1.50024042e-01],\n",
       "       [1.54419043e-01],\n",
       "       [1.91924303e-01],\n",
       "       [2.12434685e-01],\n",
       "       [1.96099514e-01],\n",
       "       [2.05402434e-01],\n",
       "       [1.88701023e-01],\n",
       "       [1.73391463e-01],\n",
       "       [1.87822204e-01],\n",
       "       [2.03351328e-01],\n",
       "       [2.06281593e-01],\n",
       "       [2.27231554e-01],\n",
       "       [2.21005237e-01],\n",
       "       [2.38585580e-01],\n",
       "       [2.52356839e-01],\n",
       "       [2.41735408e-01],\n",
       "       [2.49793155e-01],\n",
       "       [2.59462202e-01],\n",
       "       [2.45031687e-01],\n",
       "       [2.40416670e-01],\n",
       "       [2.63271739e-01],\n",
       "       [2.74918554e-01],\n",
       "       [2.93524507e-01],\n",
       "       [3.02827540e-01],\n",
       "       [2.98871892e-01],\n",
       "       [2.85173518e-01],\n",
       "       [2.91766529e-01],\n",
       "       [2.72501094e-01],\n",
       "       [2.63491076e-01],\n",
       "       [2.58363480e-01],\n",
       "       [2.98359200e-01],\n",
       "       [2.95795515e-01],\n",
       "       [2.95941627e-01],\n",
       "       [3.05024984e-01],\n",
       "       [3.13522197e-01],\n",
       "       [3.06343608e-01],\n",
       "       [2.94403552e-01],\n",
       "       [2.96674221e-01],\n",
       "       [2.85246857e-01],\n",
       "       [2.85173518e-01],\n",
       "       [3.19236049e-01],\n",
       "       [3.28538742e-01],\n",
       "       [3.27879486e-01],\n",
       "       [3.20187867e-01],\n",
       "       [3.12203685e-01],\n",
       "       [3.00043839e-01],\n",
       "       [3.57033872e-01],\n",
       "       [3.56521067e-01],\n",
       "       [3.43848529e-01],\n",
       "       [3.56960533e-01],\n",
       "       [3.58352383e-01],\n",
       "       [3.51456964e-01],\n",
       "       [3.47789351e-01],\n",
       "       [3.47789351e-01],\n",
       "       [3.52337254e-01],\n",
       "       [3.69648689e-01],\n",
       "       [3.70455641e-01],\n",
       "       [3.63413544e-01],\n",
       "       [3.44048287e-01],\n",
       "       [3.46102222e-01],\n",
       "       [3.54538093e-01],\n",
       "       [3.72436011e-01],\n",
       "       [3.86153059e-01],\n",
       "       [3.85786479e-01],\n",
       "       [4.06618623e-01],\n",
       "       [4.12927107e-01],\n",
       "       [4.02877671e-01],\n",
       "       [4.00163575e-01],\n",
       "       [3.89967575e-01],\n",
       "       [4.10139671e-01],\n",
       "       [4.13000558e-01],\n",
       "       [4.33759024e-01],\n",
       "       [4.30238315e-01],\n",
       "       [4.34933009e-01],\n",
       "       [4.50043717e-01],\n",
       "       [4.42048331e-01],\n",
       "       [4.42708266e-01],\n",
       "       [4.35006460e-01],\n",
       "       [4.57305717e-01],\n",
       "       [4.54958201e-01],\n",
       "       [4.44615750e-01],\n",
       "       [4.65081088e-01],\n",
       "       [4.73810087e-01],\n",
       "       [4.76304055e-01],\n",
       "       [5.08432731e-01],\n",
       "       [4.97356441e-01],\n",
       "       [4.89067473e-01],\n",
       "       [4.92588522e-01],\n",
       "       [4.84299328e-01],\n",
       "       [4.69115507e-01],\n",
       "       [4.65227765e-01],\n",
       "       [4.77624603e-01],\n",
       "       [4.83272587e-01],\n",
       "       [4.84373119e-01],\n",
       "       [5.08579521e-01],\n",
       "       [5.06672150e-01],\n",
       "       [5.16721585e-01],\n",
       "       [5.02271150e-01],\n",
       "       [4.93542151e-01],\n",
       "       [4.99483602e-01],\n",
       "       [5.05865424e-01],\n",
       "       [5.12320586e-01],\n",
       "       [5.02931425e-01],\n",
       "       [5.22076440e-01],\n",
       "       [5.26624229e-01],\n",
       "       [5.20462762e-01],\n",
       "       [4.98236731e-01],\n",
       "       [4.87893715e-01],\n",
       "       [4.20556026e-01],\n",
       "       [3.97523043e-01],\n",
       "       [4.04491462e-01],\n",
       "       [3.92681559e-01],\n",
       "       [3.91067769e-01],\n",
       "       [3.91508593e-01],\n",
       "       [4.03775052e-01],\n",
       "       [3.89011117e-01],\n",
       "       [3.82547354e-01],\n",
       "       [3.63670003e-01],\n",
       "       [3.67269370e-01],\n",
       "       [3.77185369e-01],\n",
       "       [3.87395176e-01],\n",
       "       [4.15968171e-01],\n",
       "       [3.81151882e-01],\n",
       "       [3.97531644e-01],\n",
       "       [4.09137150e-01],\n",
       "       [4.38003726e-01],\n",
       "       [4.63932341e-01],\n",
       "       [4.65548282e-01],\n",
       "       [4.77227352e-01],\n",
       "       [4.78990310e-01],\n",
       "       [4.29115939e-01],\n",
       "       [3.89818974e-01],\n",
       "       [3.94373102e-01],\n",
       "       [4.03040420e-01],\n",
       "       [3.80564154e-01],\n",
       "       [3.65212718e-01],\n",
       "       [3.76450738e-01],\n",
       "       [3.71088866e-01],\n",
       "       [3.92830613e-01],\n",
       "       [4.00910429e-01],\n",
       "       [3.74614555e-01],\n",
       "       [3.63155727e-01],\n",
       "       [3.69472812e-01],\n",
       "       [3.78948214e-01],\n",
       "       [3.48685939e-01],\n",
       "       [3.37447693e-01],\n",
       "       [3.39357554e-01],\n",
       "       [3.43176824e-01],\n",
       "       [3.61833933e-01],\n",
       "       [3.51917820e-01],\n",
       "       [3.61172753e-01],\n",
       "       [3.70354347e-01],\n",
       "       [3.89304924e-01],\n",
       "       [4.00322815e-01],\n",
       "       [3.95915704e-01],\n",
       "       [4.06272414e-01],\n",
       "       [4.12956759e-01],\n",
       "       [3.99294602e-01],\n",
       "       [3.98339502e-01],\n",
       "       [3.86807335e-01],\n",
       "       [3.77185369e-01],\n",
       "       [3.74394086e-01],\n",
       "       [3.55443622e-01],\n",
       "       [3.56324818e-01],\n",
       "       [3.59557039e-01],\n",
       "       [3.42369080e-01],\n",
       "       [3.11445513e-01],\n",
       "       [3.21214722e-01],\n",
       "       [3.36419254e-01],\n",
       "       [3.39945169e-01],\n",
       "       [3.63449761e-01],\n",
       "       [3.89892652e-01],\n",
       "       [3.83134969e-01],\n",
       "       [4.02085659e-01],\n",
       "       [4.21109914e-01],\n",
       "       [4.28969262e-01],\n",
       "       [4.25443573e-01],\n",
       "       [4.56554562e-01],\n",
       "       [4.44786874e-01],\n",
       "       [4.64203853e-01],\n",
       "       [4.68396041e-01],\n",
       "       [4.80899379e-01],\n",
       "       [4.80752136e-01],\n",
       "       [4.93696864e-01],\n",
       "       [4.87739229e-01],\n",
       "       [4.92667180e-01],\n",
       "       [4.82811617e-01],\n",
       "       [4.81487673e-01],\n",
       "       [4.85974234e-01],\n",
       "       [4.78398734e-01],\n",
       "       [4.82664600e-01],\n",
       "       [4.92152338e-01],\n",
       "       [4.78839784e-01],\n",
       "       [5.08186005e-01],\n",
       "       [5.00095663e-01],\n",
       "       [5.14437561e-01],\n",
       "       [5.25028774e-01],\n",
       "       [5.06420784e-01],\n",
       "       [5.17673969e-01],\n",
       "       [5.41577283e-01],\n",
       "       [5.42680419e-01],\n",
       "       [5.38708926e-01],\n",
       "       [5.26352718e-01],\n",
       "       [5.34075348e-01],\n",
       "       [5.18556523e-01],\n",
       "       [5.17453048e-01],\n",
       "       [5.09509836e-01],\n",
       "       [5.05464778e-01],\n",
       "       [5.06200202e-01],\n",
       "       [5.09362932e-01],\n",
       "       [5.01640189e-01],\n",
       "       [4.50964978e-01],\n",
       "       [4.40741477e-01],\n",
       "       [4.23531222e-01],\n",
       "       [4.18161994e-01],\n",
       "       [4.50376571e-01],\n",
       "       [4.47287293e-01],\n",
       "       [4.55010036e-01],\n",
       "       [4.50597153e-01],\n",
       "       [4.53024346e-01],\n",
       "       [4.36181577e-01],\n",
       "       [4.29194258e-01],\n",
       "       [4.72956167e-01],\n",
       "       [4.94505966e-01],\n",
       "       [5.11642995e-01],\n",
       "       [5.21130620e-01],\n",
       "       [5.16129443e-01],\n",
       "       [5.13702137e-01],\n",
       "       [5.00831087e-01],\n",
       "       [4.95756232e-01],\n",
       "       [4.68616510e-01],\n",
       "       [4.41844726e-01],\n",
       "       [4.59937987e-01],\n",
       "       [4.52509504e-01],\n",
       "       [4.65968848e-01],\n",
       "       [4.77883779e-01],\n",
       "       [4.78692768e-01],\n",
       "       [4.70676217e-01],\n",
       "       [4.76346609e-01],\n",
       "       [4.63827087e-01],\n",
       "       [4.48288682e-01],\n",
       "       [4.41734265e-01],\n",
       "       [4.39598729e-01],\n",
       "       [4.28184040e-01],\n",
       "       [4.22661004e-01],\n",
       "       [4.28257718e-01],\n",
       "       [4.43354393e-01],\n",
       "       [4.29730716e-01],\n",
       "       [4.19715121e-01],\n",
       "       [4.30540724e-01],\n",
       "       [4.21629962e-01],\n",
       "       [4.16695899e-01],\n",
       "       [4.08668823e-01],\n",
       "       [3.75087748e-01],\n",
       "       [3.38413545e-01],\n",
       "       [3.31049120e-01],\n",
       "       [3.30165661e-01],\n",
       "       [3.42905878e-01],\n",
       "       [3.57781632e-01],\n",
       "       [3.61316488e-01],\n",
       "       [3.45851535e-01],\n",
       "       [3.59622568e-01],\n",
       "       [3.56824155e-01],\n",
       "       [3.64924909e-01],\n",
       "       [3.82304590e-01],\n",
       "       [4.01377963e-01],\n",
       "       [3.47618794e-01],\n",
       "       [3.54320454e-01],\n",
       "       [3.43789564e-01],\n",
       "       [3.35394210e-01],\n",
       "       [3.61905461e-01],\n",
       "       [3.48428914e-01],\n",
       "       [3.37750781e-01],\n",
       "       [3.28987263e-01],\n",
       "       [3.34952254e-01],\n",
       "       [3.28840019e-01],\n",
       "       [3.34436733e-01],\n",
       "       [3.26115284e-01],\n",
       "       [3.35099498e-01],\n",
       "       [3.21181108e-01],\n",
       "       [3.74645678e-01],\n",
       "       [3.85765881e-01],\n",
       "       [3.57339676e-01],\n",
       "       [3.32963961e-01],\n",
       "       [3.22801236e-01],\n",
       "       [3.15731411e-01],\n",
       "       [3.00708414e-01],\n",
       "       [3.06894214e-01],\n",
       "       [3.14700482e-01],\n",
       "       [3.30312791e-01],\n",
       "       [3.36719852e-01],\n",
       "       [3.32374875e-01],\n",
       "       [3.63304781e-01],\n",
       "       [3.39959882e-01],\n",
       "       [3.32374875e-01],\n",
       "       [3.59843603e-01],\n",
       "       [4.36063986e-01],\n",
       "       [4.23765611e-01],\n",
       "       [4.28846917e-01],\n",
       "       [4.31350731e-01],\n",
       "       [4.44827391e-01],\n",
       "       [4.35461998e-01],\n",
       "       [4.59281108e-01],\n",
       "       [4.67761344e-01],\n",
       "       [4.84648592e-01],\n",
       "       [4.85533296e-01],\n",
       "       [4.85754670e-01],\n",
       "       [4.94382490e-01],\n",
       "       [5.04042823e-01],\n",
       "       [4.93350090e-01],\n",
       "       [4.63705535e-01],\n",
       "       [4.86565697e-01],\n",
       "       [4.86639601e-01],\n",
       "       [4.88851871e-01],\n",
       "       [4.96226029e-01],\n",
       "       [5.03305248e-01],\n",
       "       [5.16431399e-01],\n",
       "       [5.18791365e-01],\n",
       "       [5.30000185e-01],\n",
       "       [5.19749861e-01],\n",
       "       [5.37522039e-01],\n",
       "       [5.09720911e-01],\n",
       "       [6.13181970e-01],\n",
       "       [6.56837832e-01],\n",
       "       [6.65465652e-01],\n",
       "       [6.52560535e-01],\n",
       "       [6.83385073e-01],\n",
       "       [6.65834156e-01],\n",
       "       [6.31838852e-01],\n",
       "       [6.15689292e-01],\n",
       "       [6.20482563e-01],\n",
       "       [6.27340634e-01],\n",
       "       [6.58165059e-01],\n",
       "       [6.64433365e-01],\n",
       "       [6.38770715e-01],\n",
       "       [6.83974951e-01],\n",
       "       [7.09932314e-01],\n",
       "       [7.19371499e-01],\n",
       "       [7.54694142e-01],\n",
       "       [7.65608249e-01],\n",
       "       [7.71950007e-01],\n",
       "       [8.03659249e-01],\n",
       "       [7.63764709e-01],\n",
       "       [7.85666149e-01],\n",
       "       [8.14130834e-01],\n",
       "       [8.17228148e-01],\n",
       "       [7.73424929e-01],\n",
       "       [7.38765729e-01],\n",
       "       [7.39724451e-01],\n",
       "       [7.37143564e-01],\n",
       "       [7.44886339e-01],\n",
       "       [6.97174780e-01],\n",
       "       [6.89432005e-01],\n",
       "       [6.92897936e-01],\n",
       "       [6.94962737e-01],\n",
       "       [6.99092225e-01],\n",
       "       [7.23279952e-01],\n",
       "       [6.95847554e-01],\n",
       "       [7.06908905e-01],\n",
       "       [6.28815443e-01],\n",
       "       [6.13771961e-01],\n",
       "       [6.32871366e-01],\n",
       "       [6.58607467e-01],\n",
       "       [6.80214194e-01],\n",
       "       [6.91583725e-01],\n",
       "       [7.19195282e-01],\n",
       "       [7.22517705e-01],\n",
       "       [7.44666097e-01],\n",
       "       [7.54485217e-01],\n",
       "       [7.53303876e-01],\n",
       "       [7.57881205e-01],\n",
       "       [7.57069160e-01],\n",
       "       [7.43263269e-01],\n",
       "       [7.60317566e-01],\n",
       "       [7.62827717e-01],\n",
       "       [7.69103154e-01],\n",
       "       [7.57733509e-01],\n",
       "       [7.82096774e-01],\n",
       "       [7.76264539e-01],\n",
       "       [7.30269648e-01],\n",
       "       [7.16094573e-01],\n",
       "       [7.27390313e-01],\n",
       "       [7.15873199e-01],\n",
       "       [7.16537548e-01],\n",
       "       [7.10631295e-01],\n",
       "       [7.29457377e-01],\n",
       "       [7.30269648e-01],\n",
       "       [7.28276262e-01],\n",
       "       [6.82650555e-01],\n",
       "       [6.86120334e-01],\n",
       "       [7.14913345e-01],\n",
       "       [7.75304572e-01],\n",
       "       [7.70358173e-01],\n",
       "       [7.57585926e-01],\n",
       "       [7.64230433e-01],\n",
       "       [7.56847673e-01],\n",
       "       [7.65337756e-01],\n",
       "       [7.67331142e-01],\n",
       "       [8.05795804e-01],\n",
       "       [7.55666558e-01],\n",
       "       [7.59874704e-01],\n",
       "       [7.51679673e-01],\n",
       "       [7.60022287e-01],\n",
       "       [7.22296105e-01],\n",
       "       [7.52417927e-01],\n",
       "       [7.80251197e-01],\n",
       "       [7.76559704e-01],\n",
       "       [7.65559356e-01],\n",
       "       [7.93244931e-01],\n",
       "       [8.12071127e-01],\n",
       "       [7.96788502e-01],\n",
       "       [7.99520254e-01],\n",
       "       [8.20561209e-01],\n",
       "       [8.31487879e-01],\n",
       "       [8.26910550e-01],\n",
       "       [7.89258160e-01],\n",
       "       [7.87855444e-01],\n",
       "       [7.94057089e-01],\n",
       "       [8.08748704e-01],\n",
       "       [8.10742089e-01],\n",
       "       [7.84385552e-01],\n",
       "       [7.53451572e-01],\n",
       "       [7.31303293e-01],\n",
       "       [7.24658561e-01],\n",
       "       [7.35289839e-01],\n",
       "       [7.29900465e-01],\n",
       "       [7.65042477e-01],\n",
       "       [7.63047054e-01],\n",
       "       [7.42869752e-01],\n",
       "       [7.42869752e-01],\n",
       "       [7.49447597e-01],\n",
       "       [7.72359594e-01],\n",
       "       [7.48560856e-01],\n",
       "       [7.70881503e-01],\n",
       "       [7.72803022e-01],\n",
       "       [7.78124489e-01],\n",
       "       [7.74576957e-01],\n",
       "       [7.84554638e-01],\n",
       "       [8.06727363e-01],\n",
       "       [8.22913479e-01],\n",
       "       [8.21952607e-01],\n",
       "       [8.39690945e-01],\n",
       "       [8.56394394e-01],\n",
       "       [8.79010659e-01],\n",
       "       [8.81671336e-01],\n",
       "       [8.81893163e-01],\n",
       "       [8.80414959e-01],\n",
       "       [9.09313451e-01],\n",
       "       [9.16852282e-01],\n",
       "       [9.07391933e-01],\n",
       "       [9.18256581e-01],\n",
       "       [9.19513072e-01],\n",
       "       [9.41020430e-01],\n",
       "       [9.59054386e-01],\n",
       "       [9.18921722e-01],\n",
       "       [9.31781794e-01],\n",
       "       [9.66519199e-01],\n",
       "       [9.72284207e-01],\n",
       "       [9.93939600e-01],\n",
       "       [1.00000000e+00],\n",
       "       [9.74649153e-01],\n",
       "       [9.49593924e-01],\n",
       "       [9.36438234e-01],\n",
       "       [8.87879772e-01],\n",
       "       [8.84258222e-01],\n",
       "       [8.96379361e-01],\n",
       "       [8.75758632e-01],\n",
       "       [8.79380182e-01],\n",
       "       [8.36143414e-01],\n",
       "       [8.18035552e-01],\n",
       "       [8.09757676e-01],\n",
       "       [8.43682018e-01],\n",
       "       [7.72655212e-01],\n",
       "       [7.85367588e-01],\n",
       "       [7.31118136e-01],\n",
       "       [7.39913457e-01],\n",
       "       [7.38657080e-01],\n",
       "       [7.32152913e-01],\n",
       "       [7.84480734e-01],\n",
       "       [8.46564409e-01],\n",
       "       [8.54694476e-01],\n",
       "       [8.41612577e-01],\n",
       "       [8.29861074e-01],\n",
       "       [7.70807372e-01],\n",
       "       [8.06210144e-01],\n",
       "       [8.03771068e-01],\n",
       "       [8.09314249e-01],\n",
       "       [7.67999112e-01],\n",
       "       [7.69996572e-01],\n",
       "       [8.06769918e-01],\n",
       "       [8.38215910e-01],\n",
       "       [8.72695498e-01],\n",
       "       [8.95410680e-01],\n",
       "       [8.94448789e-01],\n",
       "       [8.97408366e-01],\n",
       "       [9.04511579e-01],\n",
       "       [9.02439761e-01],\n",
       "       [9.13908322e-01],\n",
       "       [9.13464329e-01],\n",
       "       [8.64038705e-01],\n",
       "       [8.41397541e-01],\n",
       "       [8.74989255e-01],\n",
       "       [8.46798798e-01],\n",
       "       [8.31260846e-01],\n",
       "       [8.29855075e-01],\n",
       "       [8.26821480e-01],\n",
       "       [8.54493926e-01],\n",
       "       [7.68738837e-01],\n",
       "       [7.19609057e-01],\n",
       "       [6.91048738e-01],\n",
       "       [6.37035599e-01],\n",
       "       [6.65226056e-01],\n",
       "       [6.68999602e-01],\n",
       "       [6.59306901e-01],\n",
       "       [6.78174406e-01],\n",
       "       [6.69739553e-01],\n",
       "       [7.00593630e-01],\n",
       "       [7.18795202e-01],\n",
       "       [7.41140408e-01],\n",
       "       [7.24714470e-01],\n",
       "       [7.41880359e-01],\n",
       "       [6.97855879e-01],\n",
       "       [7.29153950e-01],\n",
       "       [7.36997000e-01],\n",
       "       [7.42176317e-01],\n",
       "       [5.89015746e-01],\n",
       "       [4.79435888e-01],\n",
       "       [4.28234404e-01],\n",
       "       [3.61346819e-01],\n",
       "       [5.56903933e-01],\n",
       "       [4.94529846e-01],\n",
       "       [5.51724503e-01],\n",
       "       [5.84058482e-01],\n",
       "       [5.81246713e-01],\n",
       "       [5.23016261e-01],\n",
       "       [5.43067710e-01],\n",
       "       [5.14803349e-01],\n",
       "       [5.63489135e-01],\n",
       "       [5.99448511e-01],\n",
       "       [6.27342898e-01],\n",
       "       [6.34076021e-01],\n",
       "       [6.40439283e-01],\n",
       "       [6.48356351e-01],\n",
       "       [6.57901017e-01],\n",
       "       [6.63968320e-01],\n",
       "       [6.04997804e-01],\n",
       "       [5.57199891e-01],\n",
       "       [5.54388236e-01],\n",
       "       [5.37666340e-01],\n",
       "       [5.46841256e-01],\n",
       "       [5.54536271e-01],\n",
       "       [6.47293845e-01],\n",
       "       [6.63148580e-01],\n",
       "       [6.58703328e-01],\n",
       "       [6.52183656e-01],\n",
       "       [6.50775961e-01],\n",
       "       [6.32402247e-01],\n",
       "       [6.18177488e-01],\n",
       "       [5.82837642e-01],\n",
       "       [5.77429254e-01],\n",
       "       [5.32310014e-01],\n",
       "       [5.68909293e-01],\n",
       "       [5.70465023e-01],\n",
       "       [5.66982908e-01],\n",
       "       [5.73650841e-01],\n",
       "       [5.79948234e-01],\n",
       "       [5.91579996e-01],\n",
       "       [5.88246142e-01],\n",
       "       [5.72020980e-01],\n",
       "       [5.96395676e-01],\n",
       "       [5.78096093e-01],\n",
       "       [5.87134745e-01],\n",
       "       [5.58314684e-01],\n",
       "       [5.61426372e-01],\n",
       "       [5.41052255e-01],\n",
       "       [5.55647556e-01],\n",
       "       [5.35051160e-01],\n",
       "       [5.42015391e-01],\n",
       "       [5.74762126e-01],\n",
       "       [5.78466521e-01],\n",
       "       [5.69576018e-01],\n",
       "       [5.78911080e-01],\n",
       "       [5.74762126e-01],\n",
       "       [5.75354834e-01],\n",
       "       [6.05656607e-01],\n",
       "       [6.25289867e-01],\n",
       "       [6.59518315e-01],\n",
       "       [6.67742093e-01],\n",
       "       [6.41070471e-01],\n",
       "       [6.41515030e-01],\n",
       "       [6.49886956e-01],\n",
       "       [6.59296036e-01],\n",
       "       [6.50035105e-01],\n",
       "       [6.31216832e-01],\n",
       "       [6.34847209e-01],\n",
       "       [6.42626428e-01],\n",
       "       [6.41589161e-01],\n",
       "       [6.50183253e-01],\n",
       "       [6.59814613e-01],\n",
       "       [6.74039486e-01],\n",
       "       [6.72187231e-01],\n",
       "       [6.69297824e-01],\n",
       "       [6.70186942e-01],\n",
       "       [6.71446488e-01],\n",
       "       [6.50850092e-01],\n",
       "       [6.34402650e-01],\n",
       "       [6.23437726e-01],\n",
       "       [5.84986306e-01],\n",
       "       [5.92172817e-01],\n",
       "       [5.88986886e-01],\n",
       "       [6.65519411e-01],\n",
       "       [7.15750742e-01],\n",
       "       [7.84800459e-01],\n",
       "       [7.70633532e-01],\n",
       "       [7.88953940e-01],\n",
       "       [8.16249167e-01],\n",
       "       [8.12169704e-01],\n",
       "       [8.03343259e-01],\n",
       "       [7.98151266e-01],\n",
       "       [7.95703588e-01],\n",
       "       [7.61955462e-01],\n",
       "       [7.53722404e-01],\n",
       "       [7.74935502e-01],\n",
       "       [7.70485271e-01],\n",
       "       [7.86432131e-01],\n",
       "       [7.95184445e-01],\n",
       "       [8.10537918e-01],\n",
       "       [8.07422722e-01],\n",
       "       [7.89473196e-01],\n",
       "       [8.54373393e-01],\n",
       "       [8.64089861e-01],\n",
       "       [8.63422343e-01],\n",
       "       [8.49997292e-01],\n",
       "       [8.23814708e-01],\n",
       "       [7.67740842e-01],\n",
       "       [7.91772499e-01],\n",
       "       [8.21737910e-01],\n",
       "       [8.41244978e-01],\n",
       "       [8.51999845e-01]])"
      ]
     },
     "execution_count": 28,
     "metadata": {},
     "output_type": "execute_result"
    }
   ],
   "source": [
    "input_data = scaler.fit_transform(final_df)\n",
    "input_data"
   ]
  },
  {
   "cell_type": "code",
   "execution_count": null,
   "id": "3d345558",
   "metadata": {},
   "outputs": [
    {
     "data": {
      "text/plain": [
       "(908, 1)"
      ]
     },
     "execution_count": 29,
     "metadata": {},
     "output_type": "execute_result"
    }
   ],
   "source": [
    "input_data.shape"
   ]
  },
  {
   "cell_type": "code",
   "execution_count": null,
   "id": "ae8deeb0",
   "metadata": {},
   "outputs": [],
   "source": [
    "x_test = []\n",
    "y_test = []\n",
    "for i in range(100, input_data.shape[0]):\n",
    "    x_test.append(input_data[i-100:i])\n",
    "    y_test.append(input_data[i, 0])"
   ]
  },
  {
   "cell_type": "code",
   "execution_count": null,
   "id": "c74b8e62",
   "metadata": {},
   "outputs": [
    {
     "name": "stdout",
     "output_type": "stream",
     "text": [
      "(808, 100, 1)\n",
      "(808,)\n"
     ]
    }
   ],
   "source": [
    "x_test, y_test = np.array(x_test), np.array(y_test)\n",
    "print(x_test.shape)\n",
    "print(y_test.shape) "
   ]
  },
  {
   "cell_type": "code",
   "execution_count": null,
   "id": "1599bdf5",
   "metadata": {},
   "outputs": [
    {
     "name": "stdout",
     "output_type": "stream",
     "text": [
      "\u001b[1m26/26\u001b[0m \u001b[32m━━━━━━━━━━━━━━━━━━━━\u001b[0m\u001b[37m\u001b[0m \u001b[1m1s\u001b[0m 30ms/step\n"
     ]
    }
   ],
   "source": [
    "#MAKING PREDICTIONS\n",
    "y_predicted = model.predict(x_test)"
   ]
  },
  {
   "cell_type": "code",
   "execution_count": null,
   "id": "6ae79fa2",
   "metadata": {},
   "outputs": [
    {
     "data": {
      "text/plain": [
       "array([0.00741717])"
      ]
     },
     "execution_count": 33,
     "metadata": {},
     "output_type": "execute_result"
    }
   ],
   "source": [
    "scaler.scale_"
   ]
  },
  {
   "cell_type": "code",
   "execution_count": null,
   "id": "44a78121",
   "metadata": {},
   "outputs": [],
   "source": [
    "scaler_factor = 1/scaler.scale_[0]\n",
    "y_predicted = y_predicted * scaler_factor\n",
    "y_test = y_test * scaler_factor"
   ]
  },
  {
   "cell_type": "code",
   "execution_count": null,
   "id": "0964036b",
   "metadata": {},
   "outputs": [
    {
     "data": {
      "image/png": "[encoded data removed]",
      "text/plain": [
       "<Figure size 1200x600 with 1 Axes>"
      ]
     },
     "metadata": {},
     "output_type": "display_data"
    }
   ],
   "source": [
    "plt.figure(figsize=(12,6))\n",
    "plt.plot(y_test, 'b', label='Original Price')\n",
    "plt.plot(y_predicted, 'r', label='Predicted Price')\n",
    "plt.xlabel('Time')\n",
    "plt.ylabel('Price')\n",
    "plt.legend()\n",
    "plt.show()"
   ]
  },
  {
   "cell_type": "code",
   "execution_count": null,
   "id": "4c59036d",
   "metadata": {},
   "outputs": [],
   "source": []
  },
  {
   "cell_type": "code",
   "execution_count": null,
   "id": "e59866fb",
   "metadata": {},
   "outputs": [],
   "source": []
  },
  {
   "cell_type": "code",
   "execution_count": null,
   "id": "f2d10090",
   "metadata": {},
   "outputs": [],
   "source": []
  }
 ],
 "metadata": {
  "kernelspec": {
   "display_name": "base",
   "language": "python",
   "name": "python3"
  },
  "language_info": {
   "codemirror_mode": {
    "name": "ipython",
    "version": 3
   },
   "file_extension": ".py",
   "mimetype": "text/x-python",
   "name": "python",
   "nbconvert_exporter": "python",
   "pygments_lexer": "ipython3",
   "version": "3.12.7"
  }
 },
 "nbformat": 4,
 "nbformat_minor": 5
}
